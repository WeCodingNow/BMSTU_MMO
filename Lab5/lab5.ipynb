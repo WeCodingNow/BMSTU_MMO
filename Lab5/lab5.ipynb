{
 "cells": [
  {
   "cell_type": "markdown",
   "metadata": {},
   "source": [
    "# Андреев Алексей ИУ5-23М"
   ]
  },
  {
   "cell_type": "markdown",
   "metadata": {},
   "source": [
    "Для произвольного предложения или текста решите следующие задачи:\n",
    "\n",
    "    Токенизация. \n",
    "    Частеречная разметка.\n",
    "    Лемматизация.\n",
    "    Выделение (распознавание) именованных сущностей.\n",
    "    Разбор предложения."
   ]
  },
  {
   "cell_type": "code",
   "execution_count": 3,
   "metadata": {
    "collapsed": true,
    "jupyter": {
     "outputs_hidden": true
    }
   },
   "outputs": [
    {
     "name": "stdout",
     "output_type": "stream",
     "text": [
      "Requirement already satisfied: nltk in /home/bass/anaconda3/lib/python3.7/site-packages (3.4.5)\n",
      "Requirement already satisfied: six in /home/bass/anaconda3/lib/python3.7/site-packages (from nltk) (1.14.0)\n",
      "Collecting spacy\n",
      "  Downloading spacy-3.0.6-cp37-cp37m-manylinux2014_x86_64.whl (12.8 MB)\n",
      "\u001b[K     |████████████████████████████████| 12.8 MB 2.0 MB/s eta 0:00:01\n",
      "\u001b[?25hRequirement already satisfied: requests<3.0.0,>=2.13.0 in /home/bass/anaconda3/lib/python3.7/site-packages (from spacy) (2.23.0)\n",
      "Requirement already satisfied: packaging>=20.0 in /home/bass/anaconda3/lib/python3.7/site-packages (from spacy) (20.3)\n",
      "Collecting typer<0.4.0,>=0.3.0\n",
      "  Downloading typer-0.3.2-py3-none-any.whl (21 kB)\n",
      "Collecting wasabi<1.1.0,>=0.8.1\n",
      "  Downloading wasabi-0.8.2-py3-none-any.whl (23 kB)\n",
      "Collecting thinc<8.1.0,>=8.0.3\n",
      "  Downloading thinc-8.0.5-cp37-cp37m-manylinux_2_17_x86_64.manylinux2014_x86_64.whl (618 kB)\n",
      "\u001b[K     |████████████████████████████████| 618 kB 1.6 MB/s eta 0:00:01\n",
      "\u001b[?25hCollecting blis<0.8.0,>=0.4.0\n",
      "  Downloading blis-0.7.4-cp37-cp37m-manylinux2014_x86_64.whl (9.8 MB)\n",
      "\u001b[K     |████████████████████████████████| 9.8 MB 1.9 MB/s eta 0:00:01\n",
      "\u001b[?25hRequirement already satisfied: jinja2 in /home/bass/anaconda3/lib/python3.7/site-packages (from spacy) (2.11.1)\n",
      "Requirement already satisfied: numpy>=1.15.0 in /home/bass/anaconda3/lib/python3.7/site-packages (from spacy) (1.16.4)\n",
      "Requirement already satisfied: typing-extensions<4.0.0.0,>=3.7.4; python_version < \"3.8\" in /home/bass/anaconda3/lib/python3.7/site-packages (from spacy) (3.7.4.1)\n",
      "Collecting spacy-legacy<3.1.0,>=3.0.4\n",
      "  Downloading spacy_legacy-3.0.6-py2.py3-none-any.whl (12 kB)\n",
      "Requirement already satisfied: setuptools in /home/bass/anaconda3/lib/python3.7/site-packages (from spacy) (46.1.3.post20200330)\n",
      "Collecting murmurhash<1.1.0,>=0.28.0\n",
      "  Downloading murmurhash-1.0.5-cp37-cp37m-manylinux2014_x86_64.whl (20 kB)\n",
      "Requirement already satisfied: tqdm<5.0.0,>=4.38.0 in /home/bass/anaconda3/lib/python3.7/site-packages (from spacy) (4.44.1)\n",
      "Collecting catalogue<2.1.0,>=2.0.3\n",
      "  Downloading catalogue-2.0.4-py3-none-any.whl (16 kB)\n",
      "Collecting cymem<2.1.0,>=2.0.2\n",
      "  Downloading cymem-2.0.5-cp37-cp37m-manylinux2014_x86_64.whl (35 kB)\n",
      "Collecting srsly<3.0.0,>=2.4.1\n",
      "  Downloading srsly-2.4.1-cp37-cp37m-manylinux2014_x86_64.whl (456 kB)\n",
      "\u001b[K     |████████████████████████████████| 456 kB 1.7 MB/s eta 0:00:01\n",
      "\u001b[?25hCollecting pydantic<1.8.0,>=1.7.1\n",
      "  Downloading pydantic-1.7.4-cp37-cp37m-manylinux2014_x86_64.whl (9.1 MB)\n",
      "\u001b[K     |████████████████████████████████| 9.1 MB 1.5 MB/s eta 0:00:01\n",
      "\u001b[?25hCollecting preshed<3.1.0,>=3.0.2\n",
      "  Downloading preshed-3.0.5-cp37-cp37m-manylinux2014_x86_64.whl (126 kB)\n",
      "\u001b[K     |████████████████████████████████| 126 kB 1.8 MB/s eta 0:00:01\n",
      "\u001b[?25hCollecting pathy>=0.3.5\n",
      "  Downloading pathy-0.5.2-py3-none-any.whl (42 kB)\n",
      "\u001b[K     |████████████████████████████████| 42 kB 1.1 MB/s eta 0:00:01\n",
      "\u001b[?25hRequirement already satisfied: urllib3!=1.25.0,!=1.25.1,<1.26,>=1.21.1 in /home/bass/anaconda3/lib/python3.7/site-packages (from requests<3.0.0,>=2.13.0->spacy) (1.25.8)\n",
      "Requirement already satisfied: certifi>=2017.4.17 in /home/bass/anaconda3/lib/python3.7/site-packages (from requests<3.0.0,>=2.13.0->spacy) (2020.6.20)\n",
      "Requirement already satisfied: idna<3,>=2.5 in /home/bass/anaconda3/lib/python3.7/site-packages (from requests<3.0.0,>=2.13.0->spacy) (2.9)\n",
      "Requirement already satisfied: chardet<4,>=3.0.2 in /home/bass/anaconda3/lib/python3.7/site-packages (from requests<3.0.0,>=2.13.0->spacy) (3.0.4)\n",
      "Requirement already satisfied: pyparsing>=2.0.2 in /home/bass/anaconda3/lib/python3.7/site-packages (from packaging>=20.0->spacy) (2.4.6)\n",
      "Requirement already satisfied: six in /home/bass/anaconda3/lib/python3.7/site-packages (from packaging>=20.0->spacy) (1.14.0)\n",
      "Requirement already satisfied: click<7.2.0,>=7.1.1 in /home/bass/anaconda3/lib/python3.7/site-packages (from typer<0.4.0,>=0.3.0->spacy) (7.1.1)\n",
      "Requirement already satisfied: MarkupSafe>=0.23 in /home/bass/anaconda3/lib/python3.7/site-packages (from jinja2->spacy) (1.1.1)\n",
      "Requirement already satisfied: zipp>=0.5; python_version < \"3.8\" in /home/bass/anaconda3/lib/python3.7/site-packages (from catalogue<2.1.0,>=2.0.3->spacy) (2.2.0)\n",
      "Collecting smart-open<4.0.0,>=2.2.0\n",
      "  Downloading smart_open-3.0.0.tar.gz (113 kB)\n",
      "\u001b[K     |████████████████████████████████| 113 kB 1.3 MB/s eta 0:00:01\n",
      "\u001b[?25hBuilding wheels for collected packages: smart-open\n",
      "  Building wheel for smart-open (setup.py) ... \u001b[?25ldone\n",
      "\u001b[?25h  Created wheel for smart-open: filename=smart_open-3.0.0-py3-none-any.whl size=107097 sha256=6c663a769a94f3a477d3ad8d075719cd69494e52cbe2aab5ca589225c37856b4\n",
      "  Stored in directory: /home/bass/.cache/pip/wheels/83/a6/12/bf3c1a667bde4251be5b7a3368b2d604c9af2105b5c1cb1870\n",
      "Successfully built smart-open\n",
      "Installing collected packages: typer, wasabi, murmurhash, blis, catalogue, srsly, cymem, pydantic, preshed, thinc, spacy-legacy, smart-open, pathy, spacy\n",
      "Successfully installed blis-0.7.4 catalogue-2.0.4 cymem-2.0.5 murmurhash-1.0.5 pathy-0.5.2 preshed-3.0.5 pydantic-1.7.4 smart-open-3.0.0 spacy-3.0.6 spacy-legacy-3.0.6 srsly-2.4.1 thinc-8.0.5 typer-0.3.2 wasabi-0.8.2\n",
      "Collecting navec\n",
      "  Downloading navec-0.10.0-py3-none-any.whl (23 kB)\n",
      "Requirement already satisfied: numpy in /home/bass/anaconda3/lib/python3.7/site-packages (from navec) (1.16.4)\n",
      "Installing collected packages: navec\n",
      "Successfully installed navec-0.10.0\n",
      "Collecting slovnet\n",
      "  Downloading slovnet-0.5.0-py3-none-any.whl (49 kB)\n",
      "\u001b[K     |████████████████████████████████| 49 kB 1.4 MB/s eta 0:00:011\n",
      "\u001b[?25hRequirement already satisfied: navec in /home/bass/anaconda3/lib/python3.7/site-packages (from slovnet) (0.10.0)\n",
      "Requirement already satisfied: numpy in /home/bass/anaconda3/lib/python3.7/site-packages (from slovnet) (1.16.4)\n",
      "Collecting razdel\n",
      "  Downloading razdel-0.5.0-py3-none-any.whl (21 kB)\n",
      "Installing collected packages: razdel, slovnet\n",
      "Successfully installed razdel-0.5.0 slovnet-0.5.0\n",
      "Requirement already satisfied: razdel in /home/bass/anaconda3/lib/python3.7/site-packages (0.5.0)\n",
      "Collecting natasha\n",
      "  Downloading natasha-1.4.0-py3-none-any.whl (34.4 MB)\n",
      "\u001b[K     |████████████████████████████████| 34.4 MB 1.6 MB/s eta 0:00:01\n",
      "\u001b[?25hRequirement already satisfied: razdel>=0.5.0 in /home/bass/anaconda3/lib/python3.7/site-packages (from natasha) (0.5.0)\n",
      "Requirement already satisfied: slovnet>=0.3.0 in /home/bass/anaconda3/lib/python3.7/site-packages (from natasha) (0.5.0)\n",
      "Collecting ipymarkup>=0.8.0\n",
      "  Downloading ipymarkup-0.9.0-py3-none-any.whl (14 kB)\n",
      "Requirement already satisfied: navec>=0.9.0 in /home/bass/anaconda3/lib/python3.7/site-packages (from natasha) (0.10.0)\n",
      "Collecting pymorphy2\n",
      "  Downloading pymorphy2-0.9.1-py3-none-any.whl (55 kB)\n",
      "\u001b[K     |████████████████████████████████| 55 kB 1.5 MB/s eta 0:00:01\n",
      "\u001b[?25hCollecting yargy>=0.14.0\n",
      "  Downloading yargy-0.15.0-py3-none-any.whl (41 kB)\n",
      "\u001b[K     |████████████████████████████████| 41 kB 165 kB/s eta 0:00:01\n",
      "\u001b[?25hRequirement already satisfied: numpy in /home/bass/anaconda3/lib/python3.7/site-packages (from slovnet>=0.3.0->natasha) (1.16.4)\n",
      "Requirement already satisfied: intervaltree>=3 in /home/bass/anaconda3/lib/python3.7/site-packages (from ipymarkup>=0.8.0->natasha) (3.0.2)\n",
      "Collecting dawg-python>=0.7.1\n",
      "  Downloading DAWG_Python-0.7.2-py2.py3-none-any.whl (11 kB)\n",
      "Collecting pymorphy2-dicts-ru<3.0,>=2.4\n",
      "  Downloading pymorphy2_dicts_ru-2.4.417127.4579844-py2.py3-none-any.whl (8.2 MB)\n",
      "\u001b[K     |████████████████████████████████| 8.2 MB 2.2 MB/s eta 0:00:01\n",
      "\u001b[?25hCollecting docopt>=0.6\n",
      "  Downloading docopt-0.6.2.tar.gz (25 kB)\n",
      "Requirement already satisfied: sortedcontainers<3.0,>=2.0 in /home/bass/anaconda3/lib/python3.7/site-packages (from intervaltree>=3->ipymarkup>=0.8.0->natasha) (2.1.0)\n",
      "Building wheels for collected packages: docopt\n",
      "  Building wheel for docopt (setup.py) ... \u001b[?25ldone\n",
      "\u001b[?25h  Created wheel for docopt: filename=docopt-0.6.2-py2.py3-none-any.whl size=13704 sha256=1ec81d1ab47d718a704eefcbf475003bee9ccaddca96cf71081872df7a5ee3ca\n",
      "  Stored in directory: /home/bass/.cache/pip/wheels/72/b0/3f/1d95f96ff986c7dfffe46ce2be4062f38ebd04b506c77c81b9\n",
      "Successfully built docopt\n",
      "Installing collected packages: ipymarkup, dawg-python, pymorphy2-dicts-ru, docopt, pymorphy2, yargy, natasha\n",
      "Successfully installed dawg-python-0.7.2 docopt-0.6.2 ipymarkup-0.9.0 natasha-1.4.0 pymorphy2-0.9.1 pymorphy2-dicts-ru-2.4.417127.4579844 yargy-0.15.0\n"
     ]
    }
   ],
   "source": [
    "!pip install nltk\n",
    "!pip install spacy\n",
    "!pip install navec\n",
    "!pip install slovnet\n",
    "!pip install razdel\n",
    "!pip install natasha"
   ]
  },
  {
   "cell_type": "code",
   "execution_count": 4,
   "metadata": {},
   "outputs": [],
   "source": [
    "text = \"\"\"\n",
    "Так говорила в июле 1805 года известная Анна Павловна Шерер, фрейлина и приближенная императрицы Марии Феодоровны,\n",
    "встречая важного и чиновного князя Василия, первого приехавшего на ее вечер.\n",
    "Анна Павловна кашляла несколько дней, у нее был грипп, как она говорила (грипп был тогда новое слово, употреблявшееся только редкими).\n",
    "В записочках, разосланных утром с красным лакеем, было написано без различия во всех\n",
    "\"\"\""
   ]
  },
  {
   "cell_type": "markdown",
   "metadata": {},
   "source": [
    "## Токенизация"
   ]
  },
  {
   "cell_type": "code",
   "execution_count": 5,
   "metadata": {},
   "outputs": [
    {
     "name": "stderr",
     "output_type": "stream",
     "text": [
      "[nltk_data] Downloading package punkt to /home/bass/nltk_data...\n",
      "[nltk_data]   Unzipping tokenizers/punkt.zip.\n"
     ]
    },
    {
     "data": {
      "text/plain": [
       "True"
      ]
     },
     "execution_count": 5,
     "metadata": {},
     "output_type": "execute_result"
    }
   ],
   "source": [
    "import nltk\n",
    "nltk.download('punkt')"
   ]
  },
  {
   "cell_type": "code",
   "execution_count": 8,
   "metadata": {},
   "outputs": [
    {
     "data": {
      "text/plain": [
       "['Так',\n",
       " 'говорила',\n",
       " 'в',\n",
       " 'июле',\n",
       " '1805',\n",
       " 'года',\n",
       " 'известная',\n",
       " 'Анна',\n",
       " 'Павловна',\n",
       " 'Шерер']"
      ]
     },
     "execution_count": 8,
     "metadata": {},
     "output_type": "execute_result"
    }
   ],
   "source": [
    "nltk_tk_1 = nltk.WordPunctTokenizer()\n",
    "tokenized_text = nltk_tk_1.tokenize(text)\n",
    "tokenized_text[:10]"
   ]
  },
  {
   "cell_type": "code",
   "execution_count": 9,
   "metadata": {},
   "outputs": [
    {
     "name": "stdout",
     "output_type": "stream",
     "text": [
      "3\n"
     ]
    },
    {
     "data": {
      "text/plain": [
       "['\\nТак говорила в июле 1805 года известная Анна Павловна Шерер, фрейлина и приближенная императрицы Марии Феодоровны,\\nвстречая важного и чиновного князя Василия, первого приехавшего на ее вечер.',\n",
       " 'Анна Павловна кашляла несколько дней, у нее был грипп, как она говорила (грипп был тогда новое слово, употреблявшееся только редкими).',\n",
       " 'В записочках, разосланных утром с красным лакеем, было написано без различия во всех']"
      ]
     },
     "execution_count": 9,
     "metadata": {},
     "output_type": "execute_result"
    }
   ],
   "source": [
    "# Токенизация по предложениям\n",
    "nltk_tk_sents = nltk.tokenize.sent_tokenize(text)\n",
    "print(len(nltk_tk_sents))\n",
    "nltk_tk_sents"
   ]
  },
  {
   "cell_type": "markdown",
   "metadata": {},
   "source": [
    "## Частеречная разметка"
   ]
  },
  {
   "cell_type": "code",
   "execution_count": 15,
   "metadata": {},
   "outputs": [],
   "source": [
    "from navec import Navec\n",
    "from slovnet import Morph\n",
    "from razdel import tokenize, sentenize\n",
    "\n",
    "navec = Navec.load('navec_news_v1_1B_250K_300d_100q.tar')\n"
   ]
  },
  {
   "cell_type": "code",
   "execution_count": 16,
   "metadata": {},
   "outputs": [],
   "source": [
    "# Этот вариант токенизации нужен для последующей обработки\n",
    "def n_sentenize(text):\n",
    "    n_sen_chunk = []\n",
    "    for sent in sentenize(text):\n",
    "        tokens = [_.text for _ in tokenize(sent.text)]\n",
    "        n_sen_chunk.append(tokens)\n",
    "    return n_sen_chunk"
   ]
  },
  {
   "cell_type": "code",
   "execution_count": 17,
   "metadata": {},
   "outputs": [],
   "source": [
    "n_morph = Morph.load('slovnet_morph_news_v1.tar', batch_size=4)\n",
    "morph_res = n_morph.navec(navec)"
   ]
  },
  {
   "cell_type": "code",
   "execution_count": 18,
   "metadata": {},
   "outputs": [],
   "source": [
    "def print_pos(markup):\n",
    "    for token in markup.tokens:\n",
    "        print('{} - {}'.format(token.text, token.tag))"
   ]
  },
  {
   "cell_type": "code",
   "execution_count": 26,
   "metadata": {},
   "outputs": [
    {
     "name": "stdout",
     "output_type": "stream",
     "text": [
      "Так - ADV|Degree=Pos\n",
      "говорила - VERB|Aspect=Imp|Gender=Fem|Mood=Ind|Number=Sing|Tense=Past|VerbForm=Fin|Voice=Act\n",
      "в - ADP\n",
      "июле - NOUN|Animacy=Inan|Case=Loc|Gender=Masc|Number=Sing\n",
      "1805 - ADJ\n",
      "года - NOUN|Animacy=Inan|Case=Gen|Gender=Masc|Number=Sing\n",
      "известная - ADJ|Case=Nom|Degree=Pos|Gender=Fem|Number=Sing\n",
      "Анна - PROPN|Animacy=Anim|Case=Nom|Gender=Fem|Number=Sing\n",
      "Павловна - PROPN|Animacy=Anim|Case=Nom|Gender=Fem|Number=Sing\n",
      "Шерер - PROPN|Animacy=Anim|Case=Nom|Gender=Fem|Number=Sing\n",
      ", - PUNCT\n",
      "фрейлина - NOUN|Animacy=Inan|Case=Nom|Gender=Masc|Number=Sing\n",
      "и - CCONJ\n",
      "приближенная - NOUN|Animacy=Inan|Case=Dat|Gender=Neut|Number=Sing\n",
      "императрицы - NOUN|Animacy=Anim|Case=Gen|Gender=Fem|Number=Sing\n",
      "Марии - PROPN|Animacy=Anim|Case=Gen|Gender=Fem|Number=Sing\n",
      "Феодоровны - PROPN|Animacy=Anim|Case=Gen|Gender=Fem|Number=Sing\n",
      ", - PUNCT\n",
      "встречая - VERB|Aspect=Imp|Tense=Pres|VerbForm=Conv|Voice=Act\n",
      "важного - ADJ|Animacy=Anim|Case=Acc|Degree=Pos|Gender=Masc|Number=Sing\n",
      "и - CCONJ\n",
      "чиновного - ADJ|Case=Gen|Degree=Pos|Gender=Masc|Number=Sing\n",
      "князя - NOUN|Animacy=Anim|Case=Gen|Gender=Masc|Number=Sing\n",
      "Василия - PROPN|Animacy=Anim|Case=Gen|Gender=Masc|Number=Sing\n",
      ", - PUNCT\n",
      "первого - ADJ|Case=Gen|Degree=Pos|Gender=Masc|Number=Sing\n",
      "приехавшего - VERB|Aspect=Perf|Case=Gen|Gender=Masc|Number=Sing|Tense=Past|VerbForm=Part|Voice=Act\n",
      "на - ADP\n",
      "ее - DET\n",
      "вечер - NOUN|Animacy=Inan|Case=Acc|Gender=Masc|Number=Sing\n",
      ". - PUNCT\n",
      "Анна - PROPN|Animacy=Anim|Case=Nom|Gender=Fem|Number=Sing\n",
      "Павловна - PROPN|Animacy=Anim|Case=Nom|Gender=Fem|Number=Sing\n",
      "кашляла - VERB|Aspect=Imp|Gender=Fem|Mood=Ind|Number=Sing|Tense=Past|VerbForm=Fin|Voice=Act\n",
      "несколько - NUM|Animacy=Inan|Case=Acc\n",
      "дней - NOUN|Animacy=Inan|Case=Gen|Gender=Masc|Number=Plur\n",
      ", - PUNCT\n",
      "у - ADP\n",
      "нее - PRON|Case=Gen|Gender=Fem|Number=Sing|Person=3\n",
      "был - AUX|Aspect=Imp|Gender=Masc|Mood=Ind|Number=Sing|Tense=Past|VerbForm=Fin|Voice=Act\n",
      "грипп - NOUN|Animacy=Inan|Case=Nom|Gender=Masc|Number=Sing\n",
      ", - PUNCT\n",
      "как - SCONJ\n",
      "она - PRON|Case=Nom|Gender=Fem|Number=Sing|Person=3\n",
      "говорила - VERB|Aspect=Imp|Gender=Fem|Mood=Ind|Number=Sing|Tense=Past|VerbForm=Fin|Voice=Act\n",
      "( - PUNCT\n",
      "грипп - NOUN|Animacy=Inan|Case=Nom|Gender=Masc|Number=Sing\n",
      "был - AUX|Aspect=Imp|Gender=Masc|Mood=Ind|Number=Sing|Tense=Past|VerbForm=Fin|Voice=Act\n",
      "тогда - ADV|Degree=Pos\n",
      "новое - ADJ|Case=Nom|Degree=Pos|Gender=Neut|Number=Sing\n",
      "слово - NOUN|Animacy=Inan|Case=Nom|Gender=Neut|Number=Sing\n",
      ", - PUNCT\n",
      "употреблявшееся - VERB|Aspect=Imp|Case=Acc|Gender=Neut|Number=Sing|Tense=Pres|VerbForm=Part|Voice=Act\n",
      "только - PART\n",
      "редкими - ADJ|Case=Ins|Degree=Pos|Number=Plur\n",
      ") - PUNCT\n",
      ". - PUNCT\n",
      "В - ADP\n",
      "записочках - NOUN|Animacy=Inan|Case=Loc|Gender=Masc|Number=Sing\n",
      ", - PUNCT\n",
      "разосланных - VERB|Aspect=Perf|Case=Loc|Number=Plur|Tense=Past|VerbForm=Part|Voice=Pass\n",
      "утром - NOUN|Animacy=Inan|Case=Ins|Gender=Neut|Number=Sing\n",
      "с - ADP\n",
      "красным - ADJ|Case=Ins|Degree=Pos|Gender=Masc|Number=Sing\n",
      "лакеем - NOUN|Animacy=Inan|Case=Ins|Gender=Masc|Number=Sing\n",
      ", - PUNCT\n",
      "было - AUX|Aspect=Imp|Gender=Neut|Mood=Ind|Number=Sing|Tense=Past|VerbForm=Fin|Voice=Act\n",
      "написано - VERB|Aspect=Perf|Gender=Neut|Number=Sing|Tense=Past|Variant=Short|VerbForm=Part|Voice=Pass\n",
      "без - ADP\n",
      "различия - NOUN|Animacy=Inan|Case=Gen|Gender=Neut|Number=Sing\n",
      "во - ADP\n",
      "всех - DET|Case=Loc|Number=Plur\n"
     ]
    },
    {
     "data": {
      "text/plain": [
       "[None, None, None]"
      ]
     },
     "execution_count": 26,
     "metadata": {},
     "output_type": "execute_result"
    }
   ],
   "source": [
    "n_sen_chunk_1 = n_sentenize(text)\n",
    "n_text1_markup = (_ for _ in n_morph.map(n_sen_chunk_1))\n",
    "[print_pos(x) for x in list(n_text1_markup)]"
   ]
  },
  {
   "cell_type": "markdown",
   "metadata": {},
   "source": [
    "## Лемматизация"
   ]
  },
  {
   "cell_type": "code",
   "execution_count": 27,
   "metadata": {},
   "outputs": [],
   "source": [
    "from natasha import Doc, Segmenter, NewsEmbedding, NewsMorphTagger, MorphVocab"
   ]
  },
  {
   "cell_type": "code",
   "execution_count": 28,
   "metadata": {},
   "outputs": [],
   "source": [
    "def n_lemmatize(text):\n",
    "    emb = NewsEmbedding()\n",
    "    morph_tagger = NewsMorphTagger(emb)\n",
    "    segmenter = Segmenter()\n",
    "    morph_vocab = MorphVocab()\n",
    "    doc = Doc(text)\n",
    "    doc.segment(segmenter)\n",
    "    doc.tag_morph(morph_tagger)\n",
    "    for token in doc.tokens:\n",
    "        token.lemmatize(morph_vocab)\n",
    "    return doc"
   ]
  },
  {
   "cell_type": "code",
   "execution_count": 29,
   "metadata": {},
   "outputs": [
    {
     "data": {
      "text/plain": [
       "{'Так': 'так',\n",
       " 'говорила': 'говорить',\n",
       " 'в': 'в',\n",
       " 'июле': 'июль',\n",
       " '1805': '1805',\n",
       " 'года': 'год',\n",
       " 'известная': 'известный',\n",
       " 'Анна': 'анна',\n",
       " 'Павловна': 'павлович',\n",
       " 'Шерер': 'шерер',\n",
       " ',': ',',\n",
       " 'фрейлина': 'фрейлина',\n",
       " 'и': 'и',\n",
       " 'приближенная': 'приблизить',\n",
       " 'императрицы': 'императрица',\n",
       " 'Марии': 'мария',\n",
       " 'Феодоровны': 'феодорович',\n",
       " 'встречая': 'встречать',\n",
       " 'важного': 'важный',\n",
       " 'чиновного': 'чиновный',\n",
       " 'князя': 'князь',\n",
       " 'Василия': 'василий',\n",
       " 'первого': 'первый',\n",
       " 'приехавшего': 'приехать',\n",
       " 'на': 'на',\n",
       " 'ее': 'ее',\n",
       " 'вечер': 'вечер',\n",
       " '.': '.',\n",
       " 'кашляла': 'кашлять',\n",
       " 'несколько': 'несколько',\n",
       " 'дней': 'день',\n",
       " 'у': 'у',\n",
       " 'нее': 'она',\n",
       " 'был': 'быть',\n",
       " 'грипп': 'грипп',\n",
       " 'как': 'как',\n",
       " 'она': 'она',\n",
       " '(': '(',\n",
       " 'тогда': 'тогда',\n",
       " 'новое': 'новый',\n",
       " 'слово': 'слово',\n",
       " 'употреблявшееся': 'употребляться',\n",
       " 'только': 'только',\n",
       " 'редкими': 'редкий',\n",
       " ')': ')',\n",
       " 'В': 'в',\n",
       " 'записочках': 'записочка',\n",
       " 'разосланных': 'разослать',\n",
       " 'утром': 'утро',\n",
       " 'с': 'с',\n",
       " 'красным': 'красный',\n",
       " 'лакеем': 'лакей',\n",
       " 'было': 'быть',\n",
       " 'написано': 'написать',\n",
       " 'без': 'без',\n",
       " 'различия': 'различие',\n",
       " 'во': 'в',\n",
       " 'всех': 'весь'}"
      ]
     },
     "execution_count": 29,
     "metadata": {},
     "output_type": "execute_result"
    }
   ],
   "source": [
    "n_doc1 = n_lemmatize(text)\n",
    "{_.text: _.lemma for _ in n_doc1.tokens}"
   ]
  },
  {
   "cell_type": "markdown",
   "metadata": {},
   "source": [
    "## Выделение (распознавание) именованных сущностей"
   ]
  },
  {
   "cell_type": "code",
   "execution_count": 32,
   "metadata": {},
   "outputs": [],
   "source": [
    "from slovnet import NER\n",
    "from ipymarkup import show_span_ascii_markup as show_markup"
   ]
  },
  {
   "cell_type": "code",
   "execution_count": 33,
   "metadata": {},
   "outputs": [
    {
     "data": {
      "text/plain": [
       "SpanMarkup(\n",
       "    text='\\nТак говорила в июле 1805 года известная Анна Павловна Шерер, фрейлина и приближенная императрицы Марии Феодоровны,\\nвстречая важного и чиновного князя Василия, первого приехавшего на ее вечер.\\nАнна Павловна кашляла несколько дней, у нее был грипп, как она говорила (грипп был тогда новое слово, употреблявшееся только редкими).\\nВ записочках, разосланных утром с красным лакеем, было написано без различия во всех\\n',\n",
       "    spans=[Span(\n",
       "         start=41,\n",
       "         stop=60,\n",
       "         type='PER'\n",
       "     ),\n",
       "     Span(\n",
       "         start=98,\n",
       "         stop=114,\n",
       "         type='PER'\n",
       "     ),\n",
       "     Span(\n",
       "         start=151,\n",
       "         stop=158,\n",
       "         type='PER'\n",
       "     ),\n",
       "     Span(\n",
       "         start=193,\n",
       "         stop=206,\n",
       "         type='PER'\n",
       "     )]\n",
       ")"
      ]
     },
     "execution_count": 33,
     "metadata": {},
     "output_type": "execute_result"
    }
   ],
   "source": [
    "ner = NER.load('slovnet_ner_news_v1.tar')\n",
    "ner_res = ner.navec(navec)\n",
    "markup_ner = ner(text)\n",
    "\n",
    "markup_ner"
   ]
  },
  {
   "cell_type": "code",
   "execution_count": 34,
   "metadata": {},
   "outputs": [
    {
     "name": "stdout",
     "output_type": "stream",
     "text": [
      "Так говорила в июле 1805 года известная Анна Павловна Шерер, фрейлина \n",
      "                                        PER────────────────           \n",
      "и приближенная императрицы Марии Феодоровны,\n",
      "                           PER───────────── \n",
      "встречая важного и чиновного князя Василия, первого приехавшего на ее \n",
      "                                   PER────                            \n",
      "вечер.\n",
      "Анна Павловна кашляла несколько дней, у нее был грипп, как она \n",
      "PER──────────                                                  \n",
      "говорила (грипп был тогда новое слово, употреблявшееся только \n",
      "редкими).\n",
      "В записочках, разосланных утром с красным лакеем, было написано без \n",
      "различия во всех\n"
     ]
    }
   ],
   "source": [
    "show_markup(markup_ner.text, markup_ner.spans)"
   ]
  },
  {
   "cell_type": "markdown",
   "metadata": {},
   "source": [
    "## Разбор предложения"
   ]
  },
  {
   "cell_type": "code",
   "execution_count": 38,
   "metadata": {},
   "outputs": [
    {
     "name": "stdout",
     "output_type": "stream",
     "text": [
      "              ┌► Так          advmod\n",
      "┌─┌─────┌───┌─└─ говорила     \n",
      "│ │     │   │ ┌► в            case\n",
      "│ │     │ ┌─└►└─ июле         obl\n",
      "│ │     │ │   ┌► 1805         amod\n",
      "│ │     │ └──►└─ года         nmod\n",
      "│ │     │     ┌► известная    amod\n",
      "│ │     └►┌─┌─└─ Анна         nsubj\n",
      "│ │       │ └──► Павловна     flat:name\n",
      "│ │       └────► Шерер        flat:name\n",
      "│ │           ┌► ,            punct\n",
      "│ │ ┌──────►┌─└─ фрейлина     amod\n",
      "│ │ │       │ ┌► и            cc\n",
      "│ │ │       └►└─ приближенная conj\n",
      "│ │ │ ┌─┌────►┌─ императрицы  conj\n",
      "│ │ │ │ │   ┌─└► Марии        appos\n",
      "│ │ │ │ │   └──► Феодоровны   flat:name\n",
      "│ │ │ │ │     ┌► ,            punct\n",
      "│ └►│ │ │     └─ встречая     advcl\n",
      "│   │ │ │ ┌►┌─── важного      amod\n",
      "│   │ │ │ │ │ ┌► и            cc\n",
      "│   │ │ │ │ └►└─ чиновного    conj\n",
      "│   └─└►└─└───┌─ князя        nmod\n",
      "│       │     └► Василия      appos\n",
      "│       │   ┌──► ,            punct\n",
      "│       │   │ ┌► первого      amod\n",
      "│       └►┌─└─└─ приехавшего  acl\n",
      "│         │ ┌──► на           case\n",
      "│         │ │ ┌► ее           det\n",
      "│         └►└─└─ вечер        obl\n",
      "└──────────────► .            punct\n"
     ]
    }
   ],
   "source": [
    "from natasha import NewsSyntaxParser\n",
    "\n",
    "emb = NewsEmbedding()\n",
    "syntax_parser = NewsSyntaxParser(emb)\n",
    "\n",
    "n_doc1.parse_syntax(syntax_parser)\n",
    "n_doc1.sents[0].syntax.print()"
   ]
  },
  {
   "cell_type": "code",
   "execution_count": null,
   "metadata": {},
   "outputs": [],
   "source": []
  }
 ],
 "metadata": {
  "kernelspec": {
   "display_name": "Python 3",
   "language": "python",
   "name": "python3"
  },
  "language_info": {
   "codemirror_mode": {
    "name": "ipython",
    "version": 3
   },
   "file_extension": ".py",
   "mimetype": "text/x-python",
   "name": "python",
   "nbconvert_exporter": "python",
   "pygments_lexer": "ipython3",
   "version": "3.7.5"
  }
 },
 "nbformat": 4,
 "nbformat_minor": 5
}
