{
 "cells": [
  {
   "cell_type": "markdown",
   "metadata": {
    "id": "f-1id2vR-izk"
   },
   "source": [
    "# Рубежный контроль №2\n",
    "\n",
    "## Андреев Алексей ИУ5-23М\n",
    "## Тема: Методы обработки текстов\n",
    "## Решение задачи классификации текстов.\n",
    "\n",
    "- Необходимо сформировать два варианта векторизации признаков - на основе CountVectorizer и на\n",
    "основе TfidfVectorizer.\n",
    "\n",
    "- В качестве классификаторов необходимо использовать два классификатора по варианту для Вашей\n",
    "группы\n",
    "### Группа: ИУ5-23М\n",
    "### Классификатор 1: LinearSVC\n",
    "### Классификатор 2: Multinomial Naive Bayes (MNB)\n",
    "\n",
    "- Для каждого метода необходимо оценить качество классификации\n",
    "- Сделать вывод о том, какой вариант векторизации признаков в паре с каким классификатором показал лучшее качество."
   ]
  },
  {
   "cell_type": "code",
   "execution_count": 1,
   "metadata": {},
   "outputs": [],
   "source": [
    "import pandas as pd\n",
    "import numpy as np\n",
    "\n",
    "import matplotlib.pyplot as plt\n",
    "import seaborn as sns\n",
    "\n",
    "%matplotlib inline"
   ]
  },
  {
   "cell_type": "markdown",
   "metadata": {
    "id": "RAWtw3D-Ja0p"
   },
   "source": [
    "## Анализируем датасет и готовим категориальный признак"
   ]
  },
  {
   "cell_type": "code",
   "execution_count": 2,
   "metadata": {
    "colab": {
     "base_uri": "https://localhost:8080/",
     "height": 406
    },
    "id": "g8-yQbdBBMZS",
    "outputId": "5bd0cb4a-9483-44e2-a8fd-89ac83cf5618"
   },
   "outputs": [
    {
     "data": {
      "text/html": [
       "<div>\n",
       "<style scoped>\n",
       "    .dataframe tbody tr th:only-of-type {\n",
       "        vertical-align: middle;\n",
       "    }\n",
       "\n",
       "    .dataframe tbody tr th {\n",
       "        vertical-align: top;\n",
       "    }\n",
       "\n",
       "    .dataframe thead th {\n",
       "        text-align: right;\n",
       "    }\n",
       "</style>\n",
       "<table border=\"1\" class=\"dataframe\">\n",
       "  <thead>\n",
       "    <tr style=\"text-align: right;\">\n",
       "      <th></th>\n",
       "      <th>title</th>\n",
       "      <th>text</th>\n",
       "      <th>subject</th>\n",
       "      <th>date</th>\n",
       "      <th>target</th>\n",
       "    </tr>\n",
       "  </thead>\n",
       "  <tbody>\n",
       "    <tr>\n",
       "      <th>0</th>\n",
       "      <td>Donald Trump Sends Out Embarrassing New Year’...</td>\n",
       "      <td>Donald Trump just couldn t wish all Americans ...</td>\n",
       "      <td>News</td>\n",
       "      <td>December 31, 2017</td>\n",
       "      <td>0</td>\n",
       "    </tr>\n",
       "    <tr>\n",
       "      <th>1</th>\n",
       "      <td>Drunk Bragging Trump Staffer Started Russian ...</td>\n",
       "      <td>House Intelligence Committee Chairman Devin Nu...</td>\n",
       "      <td>News</td>\n",
       "      <td>December 31, 2017</td>\n",
       "      <td>0</td>\n",
       "    </tr>\n",
       "    <tr>\n",
       "      <th>2</th>\n",
       "      <td>Sheriff David Clarke Becomes An Internet Joke...</td>\n",
       "      <td>On Friday, it was revealed that former Milwauk...</td>\n",
       "      <td>News</td>\n",
       "      <td>December 30, 2017</td>\n",
       "      <td>0</td>\n",
       "    </tr>\n",
       "    <tr>\n",
       "      <th>3</th>\n",
       "      <td>Trump Is So Obsessed He Even Has Obama’s Name...</td>\n",
       "      <td>On Christmas day, Donald Trump announced that ...</td>\n",
       "      <td>News</td>\n",
       "      <td>December 29, 2017</td>\n",
       "      <td>0</td>\n",
       "    </tr>\n",
       "    <tr>\n",
       "      <th>4</th>\n",
       "      <td>Pope Francis Just Called Out Donald Trump Dur...</td>\n",
       "      <td>Pope Francis used his annual Christmas Day mes...</td>\n",
       "      <td>News</td>\n",
       "      <td>December 25, 2017</td>\n",
       "      <td>0</td>\n",
       "    </tr>\n",
       "    <tr>\n",
       "      <th>...</th>\n",
       "      <td>...</td>\n",
       "      <td>...</td>\n",
       "      <td>...</td>\n",
       "      <td>...</td>\n",
       "      <td>...</td>\n",
       "    </tr>\n",
       "    <tr>\n",
       "      <th>9995</th>\n",
       "      <td>Obama says Clinton never jeopardized national ...</td>\n",
       "      <td>WASHINGTON (Reuters) - U.S. President Barack O...</td>\n",
       "      <td>politicsNews</td>\n",
       "      <td>April 10, 2016</td>\n",
       "      <td>1</td>\n",
       "    </tr>\n",
       "    <tr>\n",
       "      <th>9996</th>\n",
       "      <td>U.S. plans to curb tax 'inversions' could hit ...</td>\n",
       "      <td>LONDON (Reuters) - Planned changes that Presid...</td>\n",
       "      <td>politicsNews</td>\n",
       "      <td>April 11, 2016</td>\n",
       "      <td>1</td>\n",
       "    </tr>\n",
       "    <tr>\n",
       "      <th>9997</th>\n",
       "      <td>U.S. Democrat Clinton downplays chance of cont...</td>\n",
       "      <td>WASHINGTON (Reuters) - Democratic front-runner...</td>\n",
       "      <td>politicsNews</td>\n",
       "      <td>April 10, 2016</td>\n",
       "      <td>1</td>\n",
       "    </tr>\n",
       "    <tr>\n",
       "      <th>9998</th>\n",
       "      <td>Boston Globe denounces Trump candidacy in 'fro...</td>\n",
       "      <td>(Reuters) - Headlines screaming “Deportations ...</td>\n",
       "      <td>politicsNews</td>\n",
       "      <td>April 10, 2016</td>\n",
       "      <td>1</td>\n",
       "    </tr>\n",
       "    <tr>\n",
       "      <th>9999</th>\n",
       "      <td>Lawyers evasive about ex-U.S. House speaker's ...</td>\n",
       "      <td>(Reuters) - Former U.S. House Speaker Dennis H...</td>\n",
       "      <td>politicsNews</td>\n",
       "      <td>April 9, 2016</td>\n",
       "      <td>1</td>\n",
       "    </tr>\n",
       "  </tbody>\n",
       "</table>\n",
       "<p>20000 rows × 5 columns</p>\n",
       "</div>"
      ],
      "text/plain": [
       "                                                  title  \\\n",
       "0      Donald Trump Sends Out Embarrassing New Year’...   \n",
       "1      Drunk Bragging Trump Staffer Started Russian ...   \n",
       "2      Sheriff David Clarke Becomes An Internet Joke...   \n",
       "3      Trump Is So Obsessed He Even Has Obama’s Name...   \n",
       "4      Pope Francis Just Called Out Donald Trump Dur...   \n",
       "...                                                 ...   \n",
       "9995  Obama says Clinton never jeopardized national ...   \n",
       "9996  U.S. plans to curb tax 'inversions' could hit ...   \n",
       "9997  U.S. Democrat Clinton downplays chance of cont...   \n",
       "9998  Boston Globe denounces Trump candidacy in 'fro...   \n",
       "9999  Lawyers evasive about ex-U.S. House speaker's ...   \n",
       "\n",
       "                                                   text       subject  \\\n",
       "0     Donald Trump just couldn t wish all Americans ...          News   \n",
       "1     House Intelligence Committee Chairman Devin Nu...          News   \n",
       "2     On Friday, it was revealed that former Milwauk...          News   \n",
       "3     On Christmas day, Donald Trump announced that ...          News   \n",
       "4     Pope Francis used his annual Christmas Day mes...          News   \n",
       "...                                                 ...           ...   \n",
       "9995  WASHINGTON (Reuters) - U.S. President Barack O...  politicsNews   \n",
       "9996  LONDON (Reuters) - Planned changes that Presid...  politicsNews   \n",
       "9997  WASHINGTON (Reuters) - Democratic front-runner...  politicsNews   \n",
       "9998  (Reuters) - Headlines screaming “Deportations ...  politicsNews   \n",
       "9999  (Reuters) - Former U.S. House Speaker Dennis H...  politicsNews   \n",
       "\n",
       "                   date  target  \n",
       "0     December 31, 2017       0  \n",
       "1     December 31, 2017       0  \n",
       "2     December 30, 2017       0  \n",
       "3     December 29, 2017       0  \n",
       "4     December 25, 2017       0  \n",
       "...                 ...     ...  \n",
       "9995    April 10, 2016        1  \n",
       "9996    April 11, 2016        1  \n",
       "9997    April 10, 2016        1  \n",
       "9998    April 10, 2016        1  \n",
       "9999     April 9, 2016        1  \n",
       "\n",
       "[20000 rows x 5 columns]"
      ]
     },
     "execution_count": 2,
     "metadata": {},
     "output_type": "execute_result"
    }
   ],
   "source": [
    "SUBSAMPLE_SIZE = 10000\n",
    "\n",
    "df_fake = pd.read_csv('fake-and-real-news/Fake.csv', encoding='utf-8')[:SUBSAMPLE_SIZE]\n",
    "df_fake['target'] = np.zeros(df_fake.shape[0], dtype=np.int8)\n",
    "df_true = pd.read_csv('fake-and-real-news/True.csv', encoding='utf-8')[:SUBSAMPLE_SIZE]\n",
    "df_true['target'] = np.ones(df_true.shape[0], dtype=np.int8)\n",
    "df = pd.concat((df_fake, df_true), axis=0)\n",
    "df.sample(frac=1).reset_index(drop=True)\n",
    "df"
   ]
  },
  {
   "cell_type": "code",
   "execution_count": 3,
   "metadata": {
    "colab": {
     "base_uri": "https://localhost:8080/"
    },
    "id": "zCO9IE9fE3UP",
    "outputId": "a146bbbf-1a35-413b-b8e4-4c0a1d9074ba"
   },
   "outputs": [
    {
     "data": {
      "text/plain": [
       "0    10000\n",
       "1    10000\n",
       "Name: target, dtype: int64"
      ]
     },
     "execution_count": 3,
     "metadata": {},
     "output_type": "execute_result"
    }
   ],
   "source": [
    "df.target.value_counts()"
   ]
  },
  {
   "cell_type": "code",
   "execution_count": 4,
   "metadata": {
    "colab": {
     "base_uri": "https://localhost:8080/"
    },
    "id": "FNPyxTmuG1ua",
    "outputId": "389a4cb7-0490-477a-80ed-b4c11bb0eea0"
   },
   "outputs": [
    {
     "data": {
      "text/plain": [
       "politicsNews    10000\n",
       "News             9050\n",
       "politics          950\n",
       "Name: subject, dtype: int64"
      ]
     },
     "execution_count": 4,
     "metadata": {},
     "output_type": "execute_result"
    }
   ],
   "source": [
    "df.subject.value_counts()"
   ]
  },
  {
   "cell_type": "code",
   "execution_count": 5,
   "metadata": {
    "id": "6Rvx126OHFdx"
   },
   "outputs": [],
   "source": [
    "from category_encoders import TargetEncoder\n",
    "from sklearn.preprocessing import StandardScaler, LabelEncoder\n",
    "\n",
    "encoder = LabelEncoder()\n",
    "scaler = StandardScaler()\n",
    "df['subject'] = encoder.fit_transform(df.subject)"
   ]
  },
  {
   "cell_type": "code",
   "execution_count": 6,
   "metadata": {
    "colab": {
     "base_uri": "https://localhost:8080/"
    },
    "id": "3AiIGeR-Hgjw",
    "outputId": "8f5e16b8-7fc2-4d78-9ff8-0d0b89bfe039"
   },
   "outputs": [
    {
     "data": {
      "text/plain": [
       "array([0, 1, 2])"
      ]
     },
     "execution_count": 6,
     "metadata": {},
     "output_type": "execute_result"
    }
   ],
   "source": [
    "df.subject.unique()"
   ]
  },
  {
   "cell_type": "code",
   "execution_count": 7,
   "metadata": {
    "colab": {
     "base_uri": "https://localhost:8080/"
    },
    "id": "88SH_zNJUq3Q",
    "outputId": "f7737e8d-b71b-4224-cd57-311bbcb7d49a"
   },
   "outputs": [
    {
     "data": {
      "text/plain": [
       "10950"
      ]
     },
     "execution_count": 7,
     "metadata": {},
     "output_type": "execute_result"
    }
   ],
   "source": [
    "(df.subject - df.target).sum()"
   ]
  },
  {
   "cell_type": "code",
   "execution_count": 8,
   "metadata": {
    "colab": {
     "base_uri": "https://localhost:8080/"
    },
    "id": "_hh_gvbrHmNH",
    "outputId": "3cf6d900-cdee-44c4-fda2-5690970aa59a"
   },
   "outputs": [],
   "source": [
    "df.drop(columns=['date'], inplace=True)"
   ]
  },
  {
   "cell_type": "markdown",
   "metadata": {
    "id": "4cwQL6eyLLiE"
   },
   "source": [
    "## Делим данные на две выборки train и test"
   ]
  },
  {
   "cell_type": "code",
   "execution_count": 9,
   "metadata": {
    "colab": {
     "base_uri": "https://localhost:8080/"
    },
    "id": "zELOVJedLKu9",
    "outputId": "7d23f9b5-29d3-4bfd-bc7a-88447218239f"
   },
   "outputs": [
    {
     "data": {
      "text/plain": [
       "((16000, 3), (16000,), (4000, 3), (4000,))"
      ]
     },
     "execution_count": 9,
     "metadata": {},
     "output_type": "execute_result"
    }
   ],
   "source": [
    "from sklearn.model_selection import train_test_split\n",
    "\n",
    "X = df[[i for i in df.columns if i !='target']]\n",
    "y = df.target\n",
    "\n",
    "x_train, x_test, y_train, y_test = train_test_split(X, y, test_size=0.2, stratify=y, random_state=42)\n",
    "\n",
    "x_train.shape, y_train.shape, x_test.shape, y_test.shape"
   ]
  },
  {
   "cell_type": "markdown",
   "metadata": {
    "id": "_DPKq5XVJlsw"
   },
   "source": [
    "## Предобрабатываем текстовые данные"
   ]
  },
  {
   "cell_type": "code",
   "execution_count": 10,
   "metadata": {
    "colab": {
     "base_uri": "https://localhost:8080/"
    },
    "id": "9Nl8ghWAJZAc",
    "outputId": "f25dca3e-a2d9-4d3f-e763-d2b94f30130f"
   },
   "outputs": [
    {
     "name": "stdout",
     "output_type": "stream",
     "text": [
      " Donald Trump Sends Out Embarrassing New Year’s Eve Message; This is Disturbing <class 'str'>\n"
     ]
    }
   ],
   "source": [
    "for title in df.title:\n",
    "  print(title, type(title))\n",
    "  break"
   ]
  },
  {
   "cell_type": "code",
   "execution_count": 13,
   "metadata": {
    "id": "BqYGRx0BJptr"
   },
   "outputs": [
    {
     "data": {
      "text/plain": [
       "((16000, 13240), (4000, 13240), (16000, 13240), (4000, 13240))"
      ]
     },
     "execution_count": 13,
     "metadata": {},
     "output_type": "execute_result"
    }
   ],
   "source": [
    "from sklearn.feature_extraction.text import TfidfVectorizer, CountVectorizer\n",
    "import re\n",
    "\n",
    "def preproc_func(title):\n",
    "  # make more preprocessing if it well be needed!\n",
    "  if isinstance(title, str):\n",
    "      title = re.sub('[^a-zA-Z0-9]', ' ', title)\n",
    "      return title.lower().strip()\n",
    "  else:\n",
    "    return ''\n",
    "\n",
    "def get_tfidf_matrix(df, column, preproc_function, vectorizer=None):\n",
    "  \"\"\"\n",
    "    returns matrix, trained vectorizer\n",
    "  \"\"\"\n",
    "  processed_col = df[column].apply(preproc_function)\n",
    "  if vectorizer is None:\n",
    "    vectorizer = TfidfVectorizer()\n",
    "    vectorizer.fit(processed_col)\n",
    "\n",
    "  matrix = vectorizer.transform(processed_col)\n",
    "  \n",
    "  return matrix, vectorizer\n",
    "\n",
    "def get_count_matrix(df, column, preproc_function, vectorizer=None):\n",
    "  \"\"\"\n",
    "    returns matrix, trained vectorizer\n",
    "  \"\"\"\n",
    "  processed_col = df[column].apply(preproc_function)\n",
    "  if vectorizer is None:\n",
    "    vectorizer = CountVectorizer()\n",
    "    vectorizer.fit(processed_col)\n",
    "\n",
    "  matrix = vectorizer.transform(processed_col)\n",
    "  return matrix, vectorizer\n",
    "\n",
    "\n",
    "train_title_matrix_tfidf, tfidf_vectorizer = get_tfidf_matrix(x_train, 'title', preproc_func)\n",
    "test_title_matrix_tfidf, tfidf_vectorizer = get_tfidf_matrix(x_test, 'title',\n",
    "                                                       preproc_func, vectorizer=tfidf_vectorizer)\n",
    "\n",
    "train_title_matrix_count, count_vectorizer = get_count_matrix(x_train, 'title', preproc_func)\n",
    "test_title_matrix_count, count_vectorizer = get_count_matrix(x_test, 'title',\n",
    "                                                       preproc_func, vectorizer=count_vectorizer)\n",
    "\n",
    "train_title_matrix_tfidf.shape, test_title_matrix_tfidf.shape, train_title_matrix_count.shape, test_title_matrix_count.shape"
   ]
  },
  {
   "cell_type": "code",
   "execution_count": 14,
   "metadata": {
    "id": "IPeQhT-FKi6R"
   },
   "outputs": [
    {
     "data": {
      "text/plain": [
       "((16000, 73574), (4000, 73574))"
      ]
     },
     "execution_count": 14,
     "metadata": {},
     "output_type": "execute_result"
    }
   ],
   "source": [
    "train_text_matrix_tfidf, tfidf_text_vectorizer = get_tfidf_matrix(x_train, 'text', preproc_func)\n",
    "test_text_matrix_tfidf, tfidf_text_vectorizer = get_tfidf_matrix(x_test, 'text',\n",
    "                                                       preproc_func, vectorizer=tfidf_text_vectorizer)\n",
    "\n",
    "train_text_matrix_count, count_text_vectorizer = get_tfidf_matrix(x_train, 'text', preproc_func)\n",
    "test_text_matrix_count, count_text_vectorizer = get_tfidf_matrix(x_test, 'text',\n",
    "                                                       preproc_func, vectorizer=count_text_vectorizer)\n",
    "\n",
    "train_text_matrix_tfidf.shape, test_text_matrix_tfidf.shape"
   ]
  },
  {
   "cell_type": "code",
   "execution_count": 15,
   "metadata": {
    "id": "fFVF0rUPOKdu"
   },
   "outputs": [
    {
     "data": {
      "text/plain": [
       "(16000, 86815)"
      ]
     },
     "execution_count": 15,
     "metadata": {},
     "output_type": "execute_result"
    }
   ],
   "source": [
    "from scipy import sparse\n",
    "\n",
    "subject_train_sparse = sparse.csr_matrix(np.array(x_train.subject).reshape(-1, 1))\n",
    "subject_test_sparse = sparse.csr_matrix(np.array(x_test.subject).reshape(-1, 1))\n",
    "\n",
    "texts_tfidf_train_matrix = sparse.hstack((train_text_matrix_tfidf,train_title_matrix_tfidf, subject_train_sparse))\n",
    "texts_count_train_matrix = sparse.hstack((train_text_matrix_count,train_title_matrix_count, subject_train_sparse))\n",
    "texts_tfidf_test_matrix = sparse.hstack((test_text_matrix_tfidf,test_title_matrix_tfidf, subject_test_sparse))\n",
    "texts_count_test_matrix = sparse.hstack((test_text_matrix_count,test_title_matrix_count, subject_test_sparse))\n",
    "\n",
    "texts_tfidf_train_matrix.shape"
   ]
  },
  {
   "cell_type": "markdown",
   "metadata": {
    "id": "JF6e8JXVQWu5"
   },
   "source": [
    "## LinearSVC with CountVectorizer"
   ]
  },
  {
   "cell_type": "code",
   "execution_count": 40,
   "metadata": {
    "colab": {
     "base_uri": "https://localhost:8080/",
     "height": 306
    },
    "id": "jvzNPRRxOBNw",
    "outputId": "49e27a9d-da8f-45f7-d04b-ded606e36169"
   },
   "outputs": [
    {
     "name": "stdout",
     "output_type": "stream",
     "text": [
      "Fitting 3 folds for each of 10 candidates, totalling 30 fits\n"
     ]
    },
    {
     "data": {
      "text/html": [
       "<div>\n",
       "<style scoped>\n",
       "    .dataframe tbody tr th:only-of-type {\n",
       "        vertical-align: middle;\n",
       "    }\n",
       "\n",
       "    .dataframe tbody tr th {\n",
       "        vertical-align: top;\n",
       "    }\n",
       "\n",
       "    .dataframe thead th {\n",
       "        text-align: right;\n",
       "    }\n",
       "</style>\n",
       "<table border=\"1\" class=\"dataframe\">\n",
       "  <thead>\n",
       "    <tr style=\"text-align: right;\">\n",
       "      <th></th>\n",
       "      <th>mean_fit_time</th>\n",
       "      <th>std_fit_time</th>\n",
       "      <th>mean_score_time</th>\n",
       "      <th>std_score_time</th>\n",
       "      <th>param_C</th>\n",
       "      <th>params</th>\n",
       "      <th>split0_test_score</th>\n",
       "      <th>split1_test_score</th>\n",
       "      <th>split2_test_score</th>\n",
       "      <th>mean_test_score</th>\n",
       "      <th>std_test_score</th>\n",
       "      <th>rank_test_score</th>\n",
       "    </tr>\n",
       "  </thead>\n",
       "  <tbody>\n",
       "    <tr>\n",
       "      <th>0</th>\n",
       "      <td>0.248927</td>\n",
       "      <td>0.020575</td>\n",
       "      <td>0.016852</td>\n",
       "      <td>0.001277</td>\n",
       "      <td>0.01</td>\n",
       "      <td>{'C': 0.01}</td>\n",
       "      <td>0.999813</td>\n",
       "      <td>0.999812</td>\n",
       "      <td>0.999812</td>\n",
       "      <td>0.999812</td>\n",
       "      <td>1.657489e-08</td>\n",
       "      <td>10</td>\n",
       "    </tr>\n",
       "    <tr>\n",
       "      <th>1</th>\n",
       "      <td>0.990013</td>\n",
       "      <td>0.296787</td>\n",
       "      <td>0.015509</td>\n",
       "      <td>0.000794</td>\n",
       "      <td>10.01</td>\n",
       "      <td>{'C': 10.01}</td>\n",
       "      <td>1.000000</td>\n",
       "      <td>1.000000</td>\n",
       "      <td>1.000000</td>\n",
       "      <td>1.000000</td>\n",
       "      <td>0.000000e+00</td>\n",
       "      <td>1</td>\n",
       "    </tr>\n",
       "    <tr>\n",
       "      <th>2</th>\n",
       "      <td>1.180797</td>\n",
       "      <td>0.348384</td>\n",
       "      <td>0.017449</td>\n",
       "      <td>0.001220</td>\n",
       "      <td>20.01</td>\n",
       "      <td>{'C': 20.01}</td>\n",
       "      <td>1.000000</td>\n",
       "      <td>1.000000</td>\n",
       "      <td>1.000000</td>\n",
       "      <td>1.000000</td>\n",
       "      <td>0.000000e+00</td>\n",
       "      <td>1</td>\n",
       "    </tr>\n",
       "    <tr>\n",
       "      <th>3</th>\n",
       "      <td>0.900267</td>\n",
       "      <td>0.419103</td>\n",
       "      <td>0.014942</td>\n",
       "      <td>0.002230</td>\n",
       "      <td>30.01</td>\n",
       "      <td>{'C': 30.01}</td>\n",
       "      <td>1.000000</td>\n",
       "      <td>1.000000</td>\n",
       "      <td>1.000000</td>\n",
       "      <td>1.000000</td>\n",
       "      <td>0.000000e+00</td>\n",
       "      <td>1</td>\n",
       "    </tr>\n",
       "    <tr>\n",
       "      <th>4</th>\n",
       "      <td>0.778638</td>\n",
       "      <td>0.436642</td>\n",
       "      <td>0.014977</td>\n",
       "      <td>0.000380</td>\n",
       "      <td>40.01</td>\n",
       "      <td>{'C': 40.01}</td>\n",
       "      <td>1.000000</td>\n",
       "      <td>1.000000</td>\n",
       "      <td>1.000000</td>\n",
       "      <td>1.000000</td>\n",
       "      <td>0.000000e+00</td>\n",
       "      <td>1</td>\n",
       "    </tr>\n",
       "    <tr>\n",
       "      <th>5</th>\n",
       "      <td>0.782315</td>\n",
       "      <td>0.603195</td>\n",
       "      <td>0.013039</td>\n",
       "      <td>0.003716</td>\n",
       "      <td>50.01</td>\n",
       "      <td>{'C': 50.01}</td>\n",
       "      <td>1.000000</td>\n",
       "      <td>1.000000</td>\n",
       "      <td>1.000000</td>\n",
       "      <td>1.000000</td>\n",
       "      <td>0.000000e+00</td>\n",
       "      <td>1</td>\n",
       "    </tr>\n",
       "    <tr>\n",
       "      <th>6</th>\n",
       "      <td>0.697983</td>\n",
       "      <td>0.449111</td>\n",
       "      <td>0.012488</td>\n",
       "      <td>0.003810</td>\n",
       "      <td>60.01</td>\n",
       "      <td>{'C': 60.01}</td>\n",
       "      <td>1.000000</td>\n",
       "      <td>1.000000</td>\n",
       "      <td>1.000000</td>\n",
       "      <td>1.000000</td>\n",
       "      <td>0.000000e+00</td>\n",
       "      <td>1</td>\n",
       "    </tr>\n",
       "    <tr>\n",
       "      <th>7</th>\n",
       "      <td>0.637300</td>\n",
       "      <td>0.322011</td>\n",
       "      <td>0.015083</td>\n",
       "      <td>0.001177</td>\n",
       "      <td>70.01</td>\n",
       "      <td>{'C': 70.01}</td>\n",
       "      <td>1.000000</td>\n",
       "      <td>1.000000</td>\n",
       "      <td>1.000000</td>\n",
       "      <td>1.000000</td>\n",
       "      <td>0.000000e+00</td>\n",
       "      <td>1</td>\n",
       "    </tr>\n",
       "    <tr>\n",
       "      <th>8</th>\n",
       "      <td>0.670612</td>\n",
       "      <td>0.336999</td>\n",
       "      <td>0.011951</td>\n",
       "      <td>0.004530</td>\n",
       "      <td>80.01</td>\n",
       "      <td>{'C': 80.01}</td>\n",
       "      <td>1.000000</td>\n",
       "      <td>1.000000</td>\n",
       "      <td>1.000000</td>\n",
       "      <td>1.000000</td>\n",
       "      <td>0.000000e+00</td>\n",
       "      <td>1</td>\n",
       "    </tr>\n",
       "    <tr>\n",
       "      <th>9</th>\n",
       "      <td>0.542119</td>\n",
       "      <td>0.219744</td>\n",
       "      <td>0.009056</td>\n",
       "      <td>0.002876</td>\n",
       "      <td>90.01</td>\n",
       "      <td>{'C': 90.01}</td>\n",
       "      <td>1.000000</td>\n",
       "      <td>1.000000</td>\n",
       "      <td>1.000000</td>\n",
       "      <td>1.000000</td>\n",
       "      <td>0.000000e+00</td>\n",
       "      <td>1</td>\n",
       "    </tr>\n",
       "  </tbody>\n",
       "</table>\n",
       "</div>"
      ],
      "text/plain": [
       "   mean_fit_time  std_fit_time  mean_score_time  std_score_time param_C  \\\n",
       "0       0.248927      0.020575         0.016852        0.001277    0.01   \n",
       "1       0.990013      0.296787         0.015509        0.000794   10.01   \n",
       "2       1.180797      0.348384         0.017449        0.001220   20.01   \n",
       "3       0.900267      0.419103         0.014942        0.002230   30.01   \n",
       "4       0.778638      0.436642         0.014977        0.000380   40.01   \n",
       "5       0.782315      0.603195         0.013039        0.003716   50.01   \n",
       "6       0.697983      0.449111         0.012488        0.003810   60.01   \n",
       "7       0.637300      0.322011         0.015083        0.001177   70.01   \n",
       "8       0.670612      0.336999         0.011951        0.004530   80.01   \n",
       "9       0.542119      0.219744         0.009056        0.002876   90.01   \n",
       "\n",
       "         params  split0_test_score  split1_test_score  split2_test_score  \\\n",
       "0   {'C': 0.01}           0.999813           0.999812           0.999812   \n",
       "1  {'C': 10.01}           1.000000           1.000000           1.000000   \n",
       "2  {'C': 20.01}           1.000000           1.000000           1.000000   \n",
       "3  {'C': 30.01}           1.000000           1.000000           1.000000   \n",
       "4  {'C': 40.01}           1.000000           1.000000           1.000000   \n",
       "5  {'C': 50.01}           1.000000           1.000000           1.000000   \n",
       "6  {'C': 60.01}           1.000000           1.000000           1.000000   \n",
       "7  {'C': 70.01}           1.000000           1.000000           1.000000   \n",
       "8  {'C': 80.01}           1.000000           1.000000           1.000000   \n",
       "9  {'C': 90.01}           1.000000           1.000000           1.000000   \n",
       "\n",
       "   mean_test_score  std_test_score  rank_test_score  \n",
       "0         0.999812    1.657489e-08               10  \n",
       "1         1.000000    0.000000e+00                1  \n",
       "2         1.000000    0.000000e+00                1  \n",
       "3         1.000000    0.000000e+00                1  \n",
       "4         1.000000    0.000000e+00                1  \n",
       "5         1.000000    0.000000e+00                1  \n",
       "6         1.000000    0.000000e+00                1  \n",
       "7         1.000000    0.000000e+00                1  \n",
       "8         1.000000    0.000000e+00                1  \n",
       "9         1.000000    0.000000e+00                1  "
      ]
     },
     "execution_count": 40,
     "metadata": {},
     "output_type": "execute_result"
    }
   ],
   "source": [
    "from sklearn.svm import LinearSVC\n",
    "from sklearn.metrics import classification_report\n",
    "from sklearn.model_selection import GridSearchCV\n",
    "\n",
    "\n",
    "parameters = {'C': np.arange(0.01,100,10)}\n",
    "\n",
    "linear_svc = LinearSVC()\n",
    "\n",
    "linear_svc_grid_count_clf = GridSearchCV(linear_svc, parameters, verbose=4, scoring='f1_macro', n_jobs=-1, cv=3)\n",
    "linear_svc_grid_count_clf.fit(texts_count_train_matrix, y_train)\n",
    "\n",
    "pd.DataFrame(linear_svc_grid_count_clf.cv_results_)"
   ]
  },
  {
   "cell_type": "code",
   "execution_count": 48,
   "metadata": {
    "colab": {
     "base_uri": "https://localhost:8080/"
    },
    "id": "rmoxSXq9YPDG",
    "outputId": "c9159a7b-ce20-456a-adc9-a963f1531f78"
   },
   "outputs": [
    {
     "name": "stdout",
     "output_type": "stream",
     "text": [
      "              precision    recall  f1-score   support\n",
      "\n",
      "           0     1.0000    1.0000    1.0000      2000\n",
      "           1     1.0000    1.0000    1.0000      2000\n",
      "\n",
      "    accuracy                         1.0000      4000\n",
      "   macro avg     1.0000    1.0000    1.0000      4000\n",
      "weighted avg     1.0000    1.0000    1.0000      4000\n",
      "\n"
     ]
    }
   ],
   "source": [
    "best_linear_svc_count_clf = LinearSVC(C=0.01)\n",
    "best_linear_svc_count_clf.fit(texts_count_train_matrix, y_train)\n",
    "\n",
    "pred = best_linear_svc_count_clf.predict(texts_count_test_matrix)\n",
    "best_linear_svc_count = classification_report(y_test, pred, digits=4, output_dict=True)\n",
    "\n",
    "print(classification_report(y_test, pred, digits=4))"
   ]
  },
  {
   "cell_type": "markdown",
   "metadata": {
    "id": "fC-P2wnhSJg0"
   },
   "source": [
    "## LinearSVC with TfidfVectorizer"
   ]
  },
  {
   "cell_type": "code",
   "execution_count": 51,
   "metadata": {
    "colab": {
     "base_uri": "https://localhost:8080/",
     "height": 251
    },
    "id": "C_tue-8wQkcK",
    "outputId": "ddf9115b-54fb-46b8-dc06-bdff546cd20a"
   },
   "outputs": [
    {
     "name": "stdout",
     "output_type": "stream",
     "text": [
      "Fitting 3 folds for each of 10 candidates, totalling 30 fits\n"
     ]
    },
    {
     "data": {
      "text/html": [
       "<div>\n",
       "<style scoped>\n",
       "    .dataframe tbody tr th:only-of-type {\n",
       "        vertical-align: middle;\n",
       "    }\n",
       "\n",
       "    .dataframe tbody tr th {\n",
       "        vertical-align: top;\n",
       "    }\n",
       "\n",
       "    .dataframe thead th {\n",
       "        text-align: right;\n",
       "    }\n",
       "</style>\n",
       "<table border=\"1\" class=\"dataframe\">\n",
       "  <thead>\n",
       "    <tr style=\"text-align: right;\">\n",
       "      <th></th>\n",
       "      <th>mean_fit_time</th>\n",
       "      <th>std_fit_time</th>\n",
       "      <th>mean_score_time</th>\n",
       "      <th>std_score_time</th>\n",
       "      <th>param_C</th>\n",
       "      <th>params</th>\n",
       "      <th>split0_test_score</th>\n",
       "      <th>split1_test_score</th>\n",
       "      <th>split2_test_score</th>\n",
       "      <th>mean_test_score</th>\n",
       "      <th>std_test_score</th>\n",
       "      <th>rank_test_score</th>\n",
       "    </tr>\n",
       "  </thead>\n",
       "  <tbody>\n",
       "    <tr>\n",
       "      <th>0</th>\n",
       "      <td>0.429136</td>\n",
       "      <td>0.032973</td>\n",
       "      <td>0.030842</td>\n",
       "      <td>0.000649</td>\n",
       "      <td>0.01</td>\n",
       "      <td>{'C': 0.01}</td>\n",
       "      <td>1.0</td>\n",
       "      <td>1.0</td>\n",
       "      <td>1.0</td>\n",
       "      <td>1.0</td>\n",
       "      <td>0.0</td>\n",
       "      <td>1</td>\n",
       "    </tr>\n",
       "    <tr>\n",
       "      <th>1</th>\n",
       "      <td>0.932864</td>\n",
       "      <td>0.083978</td>\n",
       "      <td>0.015252</td>\n",
       "      <td>0.000834</td>\n",
       "      <td>10.01</td>\n",
       "      <td>{'C': 10.01}</td>\n",
       "      <td>1.0</td>\n",
       "      <td>1.0</td>\n",
       "      <td>1.0</td>\n",
       "      <td>1.0</td>\n",
       "      <td>0.0</td>\n",
       "      <td>1</td>\n",
       "    </tr>\n",
       "    <tr>\n",
       "      <th>2</th>\n",
       "      <td>1.176466</td>\n",
       "      <td>0.152602</td>\n",
       "      <td>0.019119</td>\n",
       "      <td>0.001311</td>\n",
       "      <td>20.01</td>\n",
       "      <td>{'C': 20.01}</td>\n",
       "      <td>1.0</td>\n",
       "      <td>1.0</td>\n",
       "      <td>1.0</td>\n",
       "      <td>1.0</td>\n",
       "      <td>0.0</td>\n",
       "      <td>1</td>\n",
       "    </tr>\n",
       "    <tr>\n",
       "      <th>3</th>\n",
       "      <td>1.299925</td>\n",
       "      <td>0.465570</td>\n",
       "      <td>0.016489</td>\n",
       "      <td>0.000594</td>\n",
       "      <td>30.01</td>\n",
       "      <td>{'C': 30.01}</td>\n",
       "      <td>1.0</td>\n",
       "      <td>1.0</td>\n",
       "      <td>1.0</td>\n",
       "      <td>1.0</td>\n",
       "      <td>0.0</td>\n",
       "      <td>1</td>\n",
       "    </tr>\n",
       "    <tr>\n",
       "      <th>4</th>\n",
       "      <td>1.148327</td>\n",
       "      <td>0.352092</td>\n",
       "      <td>0.016069</td>\n",
       "      <td>0.000650</td>\n",
       "      <td>40.01</td>\n",
       "      <td>{'C': 40.01}</td>\n",
       "      <td>1.0</td>\n",
       "      <td>1.0</td>\n",
       "      <td>1.0</td>\n",
       "      <td>1.0</td>\n",
       "      <td>0.0</td>\n",
       "      <td>1</td>\n",
       "    </tr>\n",
       "    <tr>\n",
       "      <th>5</th>\n",
       "      <td>1.068797</td>\n",
       "      <td>0.354642</td>\n",
       "      <td>0.015721</td>\n",
       "      <td>0.000564</td>\n",
       "      <td>50.01</td>\n",
       "      <td>{'C': 50.01}</td>\n",
       "      <td>1.0</td>\n",
       "      <td>1.0</td>\n",
       "      <td>1.0</td>\n",
       "      <td>1.0</td>\n",
       "      <td>0.0</td>\n",
       "      <td>1</td>\n",
       "    </tr>\n",
       "    <tr>\n",
       "      <th>6</th>\n",
       "      <td>1.040896</td>\n",
       "      <td>0.356669</td>\n",
       "      <td>0.013073</td>\n",
       "      <td>0.004072</td>\n",
       "      <td>60.01</td>\n",
       "      <td>{'C': 60.01}</td>\n",
       "      <td>1.0</td>\n",
       "      <td>1.0</td>\n",
       "      <td>1.0</td>\n",
       "      <td>1.0</td>\n",
       "      <td>0.0</td>\n",
       "      <td>1</td>\n",
       "    </tr>\n",
       "    <tr>\n",
       "      <th>7</th>\n",
       "      <td>0.843742</td>\n",
       "      <td>0.378233</td>\n",
       "      <td>0.017241</td>\n",
       "      <td>0.000843</td>\n",
       "      <td>70.01</td>\n",
       "      <td>{'C': 70.01}</td>\n",
       "      <td>1.0</td>\n",
       "      <td>1.0</td>\n",
       "      <td>1.0</td>\n",
       "      <td>1.0</td>\n",
       "      <td>0.0</td>\n",
       "      <td>1</td>\n",
       "    </tr>\n",
       "    <tr>\n",
       "      <th>8</th>\n",
       "      <td>1.165631</td>\n",
       "      <td>0.128912</td>\n",
       "      <td>0.009346</td>\n",
       "      <td>0.003789</td>\n",
       "      <td>80.01</td>\n",
       "      <td>{'C': 80.01}</td>\n",
       "      <td>1.0</td>\n",
       "      <td>1.0</td>\n",
       "      <td>1.0</td>\n",
       "      <td>1.0</td>\n",
       "      <td>0.0</td>\n",
       "      <td>1</td>\n",
       "    </tr>\n",
       "    <tr>\n",
       "      <th>9</th>\n",
       "      <td>0.723026</td>\n",
       "      <td>0.106263</td>\n",
       "      <td>0.011131</td>\n",
       "      <td>0.002703</td>\n",
       "      <td>90.01</td>\n",
       "      <td>{'C': 90.01}</td>\n",
       "      <td>1.0</td>\n",
       "      <td>1.0</td>\n",
       "      <td>1.0</td>\n",
       "      <td>1.0</td>\n",
       "      <td>0.0</td>\n",
       "      <td>1</td>\n",
       "    </tr>\n",
       "  </tbody>\n",
       "</table>\n",
       "</div>"
      ],
      "text/plain": [
       "   mean_fit_time  std_fit_time  mean_score_time  std_score_time param_C  \\\n",
       "0       0.429136      0.032973         0.030842        0.000649    0.01   \n",
       "1       0.932864      0.083978         0.015252        0.000834   10.01   \n",
       "2       1.176466      0.152602         0.019119        0.001311   20.01   \n",
       "3       1.299925      0.465570         0.016489        0.000594   30.01   \n",
       "4       1.148327      0.352092         0.016069        0.000650   40.01   \n",
       "5       1.068797      0.354642         0.015721        0.000564   50.01   \n",
       "6       1.040896      0.356669         0.013073        0.004072   60.01   \n",
       "7       0.843742      0.378233         0.017241        0.000843   70.01   \n",
       "8       1.165631      0.128912         0.009346        0.003789   80.01   \n",
       "9       0.723026      0.106263         0.011131        0.002703   90.01   \n",
       "\n",
       "         params  split0_test_score  split1_test_score  split2_test_score  \\\n",
       "0   {'C': 0.01}                1.0                1.0                1.0   \n",
       "1  {'C': 10.01}                1.0                1.0                1.0   \n",
       "2  {'C': 20.01}                1.0                1.0                1.0   \n",
       "3  {'C': 30.01}                1.0                1.0                1.0   \n",
       "4  {'C': 40.01}                1.0                1.0                1.0   \n",
       "5  {'C': 50.01}                1.0                1.0                1.0   \n",
       "6  {'C': 60.01}                1.0                1.0                1.0   \n",
       "7  {'C': 70.01}                1.0                1.0                1.0   \n",
       "8  {'C': 80.01}                1.0                1.0                1.0   \n",
       "9  {'C': 90.01}                1.0                1.0                1.0   \n",
       "\n",
       "   mean_test_score  std_test_score  rank_test_score  \n",
       "0              1.0             0.0                1  \n",
       "1              1.0             0.0                1  \n",
       "2              1.0             0.0                1  \n",
       "3              1.0             0.0                1  \n",
       "4              1.0             0.0                1  \n",
       "5              1.0             0.0                1  \n",
       "6              1.0             0.0                1  \n",
       "7              1.0             0.0                1  \n",
       "8              1.0             0.0                1  \n",
       "9              1.0             0.0                1  "
      ]
     },
     "execution_count": 51,
     "metadata": {},
     "output_type": "execute_result"
    }
   ],
   "source": [
    "parameters = {'C': np.arange(0.01,100,10)}\n",
    "\n",
    "linear_svc = LinearSVC()\n",
    "\n",
    "linear_svc_grid_tfidf_clf = GridSearchCV(linear_svc, parameters, verbose=4, scoring='f1_macro', n_jobs=-1, cv=3)\n",
    "linear_svc_grid_tfidf_clf.fit(texts_tfidf_train_matrix, y_train)\n",
    "\n",
    "pd.DataFrame(linear_svc_grid_tfidf_clf.cv_results_)"
   ]
  },
  {
   "cell_type": "code",
   "execution_count": 54,
   "metadata": {
    "colab": {
     "base_uri": "https://localhost:8080/"
    },
    "id": "zNudmZdtZzNB",
    "outputId": "548046a1-bf87-41e0-f62c-1f230eabe65c"
   },
   "outputs": [
    {
     "name": "stdout",
     "output_type": "stream",
     "text": [
      "              precision    recall  f1-score   support\n",
      "\n",
      "           0     1.0000    1.0000    1.0000      2000\n",
      "           1     1.0000    1.0000    1.0000      2000\n",
      "\n",
      "    accuracy                         1.0000      4000\n",
      "   macro avg     1.0000    1.0000    1.0000      4000\n",
      "weighted avg     1.0000    1.0000    1.0000      4000\n",
      "\n"
     ]
    }
   ],
   "source": [
    "best_linear_svc_tfidf_clf = LinearSVC(C=0.01)\n",
    "best_linear_svc_tfidf_clf.fit(texts_tfidf_train_matrix, y_train)\n",
    "\n",
    "pred = best_linear_svc_tfidf_clf.predict(texts_tfidf_test_matrix)\n",
    "best_linear_svc_tfidf = classification_report(y_test, pred, digits=4, output_dict=True)\n",
    "\n",
    "print(classification_report(y_test, pred, digits=4))"
   ]
  },
  {
   "cell_type": "markdown",
   "metadata": {
    "id": "AFEIjMtfSmp0"
   },
   "source": [
    "## Multinomial Naive Bayes with CountVectorizer"
   ]
  },
  {
   "cell_type": "code",
   "execution_count": 56,
   "metadata": {
    "colab": {
     "base_uri": "https://localhost:8080/",
     "height": 418
    },
    "id": "drq5yI9CSWW2",
    "outputId": "cc87ef35-9d95-453f-a4f7-be520e2ef7f0"
   },
   "outputs": [
    {
     "name": "stdout",
     "output_type": "stream",
     "text": [
      "Fitting 3 folds for each of 5 candidates, totalling 15 fits\n"
     ]
    },
    {
     "data": {
      "text/html": [
       "<div>\n",
       "<style scoped>\n",
       "    .dataframe tbody tr th:only-of-type {\n",
       "        vertical-align: middle;\n",
       "    }\n",
       "\n",
       "    .dataframe tbody tr th {\n",
       "        vertical-align: top;\n",
       "    }\n",
       "\n",
       "    .dataframe thead th {\n",
       "        text-align: right;\n",
       "    }\n",
       "</style>\n",
       "<table border=\"1\" class=\"dataframe\">\n",
       "  <thead>\n",
       "    <tr style=\"text-align: right;\">\n",
       "      <th></th>\n",
       "      <th>mean_fit_time</th>\n",
       "      <th>std_fit_time</th>\n",
       "      <th>mean_score_time</th>\n",
       "      <th>std_score_time</th>\n",
       "      <th>param_alpha</th>\n",
       "      <th>params</th>\n",
       "      <th>split0_test_score</th>\n",
       "      <th>split1_test_score</th>\n",
       "      <th>split2_test_score</th>\n",
       "      <th>mean_test_score</th>\n",
       "      <th>std_test_score</th>\n",
       "      <th>rank_test_score</th>\n",
       "    </tr>\n",
       "  </thead>\n",
       "  <tbody>\n",
       "    <tr>\n",
       "      <th>0</th>\n",
       "      <td>0.093609</td>\n",
       "      <td>0.011727</td>\n",
       "      <td>0.035755</td>\n",
       "      <td>0.010381</td>\n",
       "      <td>0</td>\n",
       "      <td>{'alpha': 0}</td>\n",
       "      <td>0.928691</td>\n",
       "      <td>0.930947</td>\n",
       "      <td>0.926784</td>\n",
       "      <td>0.928808</td>\n",
       "      <td>0.001702</td>\n",
       "      <td>5</td>\n",
       "    </tr>\n",
       "    <tr>\n",
       "      <th>1</th>\n",
       "      <td>0.100045</td>\n",
       "      <td>0.019708</td>\n",
       "      <td>0.030619</td>\n",
       "      <td>0.002496</td>\n",
       "      <td>0.5</td>\n",
       "      <td>{'alpha': 0.5}</td>\n",
       "      <td>0.979939</td>\n",
       "      <td>0.979184</td>\n",
       "      <td>0.980686</td>\n",
       "      <td>0.979936</td>\n",
       "      <td>0.000613</td>\n",
       "      <td>4</td>\n",
       "    </tr>\n",
       "    <tr>\n",
       "      <th>2</th>\n",
       "      <td>0.111300</td>\n",
       "      <td>0.010561</td>\n",
       "      <td>0.030785</td>\n",
       "      <td>0.003500</td>\n",
       "      <td>1</td>\n",
       "      <td>{'alpha': 1}</td>\n",
       "      <td>0.981439</td>\n",
       "      <td>0.980497</td>\n",
       "      <td>0.981811</td>\n",
       "      <td>0.981249</td>\n",
       "      <td>0.000553</td>\n",
       "      <td>3</td>\n",
       "    </tr>\n",
       "    <tr>\n",
       "      <th>3</th>\n",
       "      <td>0.094566</td>\n",
       "      <td>0.003825</td>\n",
       "      <td>0.036468</td>\n",
       "      <td>0.007296</td>\n",
       "      <td>2</td>\n",
       "      <td>{'alpha': 2}</td>\n",
       "      <td>0.982939</td>\n",
       "      <td>0.982560</td>\n",
       "      <td>0.983311</td>\n",
       "      <td>0.982937</td>\n",
       "      <td>0.000307</td>\n",
       "      <td>2</td>\n",
       "    </tr>\n",
       "    <tr>\n",
       "      <th>4</th>\n",
       "      <td>0.064174</td>\n",
       "      <td>0.005111</td>\n",
       "      <td>0.012775</td>\n",
       "      <td>0.000305</td>\n",
       "      <td>4</td>\n",
       "      <td>{'alpha': 4}</td>\n",
       "      <td>0.984439</td>\n",
       "      <td>0.983497</td>\n",
       "      <td>0.985186</td>\n",
       "      <td>0.984374</td>\n",
       "      <td>0.000691</td>\n",
       "      <td>1</td>\n",
       "    </tr>\n",
       "  </tbody>\n",
       "</table>\n",
       "</div>"
      ],
      "text/plain": [
       "   mean_fit_time  std_fit_time  mean_score_time  std_score_time param_alpha  \\\n",
       "0       0.093609      0.011727         0.035755        0.010381           0   \n",
       "1       0.100045      0.019708         0.030619        0.002496         0.5   \n",
       "2       0.111300      0.010561         0.030785        0.003500           1   \n",
       "3       0.094566      0.003825         0.036468        0.007296           2   \n",
       "4       0.064174      0.005111         0.012775        0.000305           4   \n",
       "\n",
       "           params  split0_test_score  split1_test_score  split2_test_score  \\\n",
       "0    {'alpha': 0}           0.928691           0.930947           0.926784   \n",
       "1  {'alpha': 0.5}           0.979939           0.979184           0.980686   \n",
       "2    {'alpha': 1}           0.981439           0.980497           0.981811   \n",
       "3    {'alpha': 2}           0.982939           0.982560           0.983311   \n",
       "4    {'alpha': 4}           0.984439           0.983497           0.985186   \n",
       "\n",
       "   mean_test_score  std_test_score  rank_test_score  \n",
       "0         0.928808        0.001702                5  \n",
       "1         0.979936        0.000613                4  \n",
       "2         0.981249        0.000553                3  \n",
       "3         0.982937        0.000307                2  \n",
       "4         0.984374        0.000691                1  "
      ]
     },
     "execution_count": 56,
     "metadata": {},
     "output_type": "execute_result"
    }
   ],
   "source": [
    "from sklearn.naive_bayes import MultinomialNB\n",
    "\n",
    "parameters = {'alpha': [0, 0.5, 1, 2, 4]}\n",
    "\n",
    "multi_clf = MultinomialNB()\n",
    "\n",
    "multi_grid_count_clf = GridSearchCV(multi_clf, parameters, verbose=4, scoring='f1_macro', n_jobs=-1, cv=3)\n",
    "\n",
    "multi_grid_count_clf.fit(texts_count_train_matrix, y_train)\n",
    "\n",
    "pd.DataFrame(multi_grid_count_clf.cv_results_)"
   ]
  },
  {
   "cell_type": "code",
   "execution_count": 63,
   "metadata": {
    "colab": {
     "base_uri": "https://localhost:8080/"
    },
    "id": "zHDBWxIaa_iJ",
    "outputId": "50b01ba0-4cfa-43c1-8012-d6beab5e1a44"
   },
   "outputs": [
    {
     "name": "stdout",
     "output_type": "stream",
     "text": [
      "              precision    recall  f1-score   support\n",
      "\n",
      "           0     0.9914    0.9780    0.9846      2000\n",
      "           1     0.9783    0.9915    0.9849      2000\n",
      "\n",
      "    accuracy                         0.9848      4000\n",
      "   macro avg     0.9848    0.9848    0.9847      4000\n",
      "weighted avg     0.9848    0.9848    0.9847      4000\n",
      "\n"
     ]
    }
   ],
   "source": [
    "multi_clf = MultinomialNB(alpha=4)\n",
    "\n",
    "multi_clf.fit(texts_count_train_matrix, y_train)\n",
    "multi_pred = multi_clf.predict(X=texts_count_test_matrix)\n",
    "\n",
    "best_multi_count = classification_report(y_test, multi_pred, digits=4, output_dict=True)\n",
    "\n",
    "print(classification_report(y_test, bayes_pred, digits=4))"
   ]
  },
  {
   "cell_type": "markdown",
   "metadata": {
    "id": "qLBlohhrTCvz"
   },
   "source": [
    "## Multinomial Naive Bayes with TfidfVectorizer"
   ]
  },
  {
   "cell_type": "code",
   "execution_count": 59,
   "metadata": {
    "colab": {
     "base_uri": "https://localhost:8080/",
     "height": 401
    },
    "id": "bG005uatS-6F",
    "outputId": "6594777a-4346-4bdd-e5bb-6778302ed2a5"
   },
   "outputs": [
    {
     "name": "stdout",
     "output_type": "stream",
     "text": [
      "Fitting 3 folds for each of 5 candidates, totalling 15 fits\n"
     ]
    },
    {
     "data": {
      "text/html": [
       "<div>\n",
       "<style scoped>\n",
       "    .dataframe tbody tr th:only-of-type {\n",
       "        vertical-align: middle;\n",
       "    }\n",
       "\n",
       "    .dataframe tbody tr th {\n",
       "        vertical-align: top;\n",
       "    }\n",
       "\n",
       "    .dataframe thead th {\n",
       "        text-align: right;\n",
       "    }\n",
       "</style>\n",
       "<table border=\"1\" class=\"dataframe\">\n",
       "  <thead>\n",
       "    <tr style=\"text-align: right;\">\n",
       "      <th></th>\n",
       "      <th>mean_fit_time</th>\n",
       "      <th>std_fit_time</th>\n",
       "      <th>mean_score_time</th>\n",
       "      <th>std_score_time</th>\n",
       "      <th>param_alpha</th>\n",
       "      <th>params</th>\n",
       "      <th>split0_test_score</th>\n",
       "      <th>split1_test_score</th>\n",
       "      <th>split2_test_score</th>\n",
       "      <th>mean_test_score</th>\n",
       "      <th>std_test_score</th>\n",
       "      <th>rank_test_score</th>\n",
       "    </tr>\n",
       "  </thead>\n",
       "  <tbody>\n",
       "    <tr>\n",
       "      <th>0</th>\n",
       "      <td>0.111577</td>\n",
       "      <td>0.001251</td>\n",
       "      <td>0.026264</td>\n",
       "      <td>0.000476</td>\n",
       "      <td>0</td>\n",
       "      <td>{'alpha': 0}</td>\n",
       "      <td>0.946349</td>\n",
       "      <td>0.949166</td>\n",
       "      <td>0.946147</td>\n",
       "      <td>0.947221</td>\n",
       "      <td>0.001378</td>\n",
       "      <td>5</td>\n",
       "    </tr>\n",
       "    <tr>\n",
       "      <th>1</th>\n",
       "      <td>0.111472</td>\n",
       "      <td>0.003779</td>\n",
       "      <td>0.030949</td>\n",
       "      <td>0.005987</td>\n",
       "      <td>0.5</td>\n",
       "      <td>{'alpha': 0.5}</td>\n",
       "      <td>0.984249</td>\n",
       "      <td>0.980680</td>\n",
       "      <td>0.985184</td>\n",
       "      <td>0.983371</td>\n",
       "      <td>0.001941</td>\n",
       "      <td>1</td>\n",
       "    </tr>\n",
       "    <tr>\n",
       "      <th>2</th>\n",
       "      <td>0.103955</td>\n",
       "      <td>0.003717</td>\n",
       "      <td>0.031454</td>\n",
       "      <td>0.001466</td>\n",
       "      <td>1</td>\n",
       "      <td>{'alpha': 1}</td>\n",
       "      <td>0.982935</td>\n",
       "      <td>0.978427</td>\n",
       "      <td>0.983683</td>\n",
       "      <td>0.981681</td>\n",
       "      <td>0.002322</td>\n",
       "      <td>2</td>\n",
       "    </tr>\n",
       "    <tr>\n",
       "      <th>3</th>\n",
       "      <td>0.108076</td>\n",
       "      <td>0.004720</td>\n",
       "      <td>0.026437</td>\n",
       "      <td>0.001488</td>\n",
       "      <td>2</td>\n",
       "      <td>{'alpha': 2}</td>\n",
       "      <td>0.979557</td>\n",
       "      <td>0.975045</td>\n",
       "      <td>0.982369</td>\n",
       "      <td>0.978990</td>\n",
       "      <td>0.003017</td>\n",
       "      <td>3</td>\n",
       "    </tr>\n",
       "    <tr>\n",
       "      <th>4</th>\n",
       "      <td>0.102255</td>\n",
       "      <td>0.002252</td>\n",
       "      <td>0.017292</td>\n",
       "      <td>0.004102</td>\n",
       "      <td>4</td>\n",
       "      <td>{'alpha': 4}</td>\n",
       "      <td>0.973547</td>\n",
       "      <td>0.968843</td>\n",
       "      <td>0.976736</td>\n",
       "      <td>0.973042</td>\n",
       "      <td>0.003242</td>\n",
       "      <td>4</td>\n",
       "    </tr>\n",
       "  </tbody>\n",
       "</table>\n",
       "</div>"
      ],
      "text/plain": [
       "   mean_fit_time  std_fit_time  mean_score_time  std_score_time param_alpha  \\\n",
       "0       0.111577      0.001251         0.026264        0.000476           0   \n",
       "1       0.111472      0.003779         0.030949        0.005987         0.5   \n",
       "2       0.103955      0.003717         0.031454        0.001466           1   \n",
       "3       0.108076      0.004720         0.026437        0.001488           2   \n",
       "4       0.102255      0.002252         0.017292        0.004102           4   \n",
       "\n",
       "           params  split0_test_score  split1_test_score  split2_test_score  \\\n",
       "0    {'alpha': 0}           0.946349           0.949166           0.946147   \n",
       "1  {'alpha': 0.5}           0.984249           0.980680           0.985184   \n",
       "2    {'alpha': 1}           0.982935           0.978427           0.983683   \n",
       "3    {'alpha': 2}           0.979557           0.975045           0.982369   \n",
       "4    {'alpha': 4}           0.973547           0.968843           0.976736   \n",
       "\n",
       "   mean_test_score  std_test_score  rank_test_score  \n",
       "0         0.947221        0.001378                5  \n",
       "1         0.983371        0.001941                1  \n",
       "2         0.981681        0.002322                2  \n",
       "3         0.978990        0.003017                3  \n",
       "4         0.973042        0.003242                4  "
      ]
     },
     "execution_count": 59,
     "metadata": {},
     "output_type": "execute_result"
    }
   ],
   "source": [
    "parameters = {'alpha': [0, 0.5, 1, 2, 4]}\n",
    "\n",
    "multi_clf = MultinomialNB()\n",
    "\n",
    "multi_grid_tfidf_clf = GridSearchCV(multi_clf, parameters, verbose=4, scoring='f1_macro', n_jobs=-1, cv=3)\n",
    "\n",
    "multi_grid_tfidf_clf.fit(texts_tfidf_train_matrix, y_train)\n",
    "\n",
    "pd.DataFrame(multi_grid_tfidf_clf.cv_results_)"
   ]
  },
  {
   "cell_type": "code",
   "execution_count": 61,
   "metadata": {
    "colab": {
     "base_uri": "https://localhost:8080/"
    },
    "id": "054W4eeXXioi",
    "outputId": "864300fa-6c2f-4424-f285-2055b21df97c"
   },
   "outputs": [
    {
     "name": "stdout",
     "output_type": "stream",
     "text": [
      "              precision    recall  f1-score   support\n",
      "\n",
      "           0     0.9974    0.9735    0.9853      2000\n",
      "           1     0.9741    0.9975    0.9857      2000\n",
      "\n",
      "    accuracy                         0.9855      4000\n",
      "   macro avg     0.9858    0.9855    0.9855      4000\n",
      "weighted avg     0.9858    0.9855    0.9855      4000\n",
      "\n"
     ]
    }
   ],
   "source": [
    "multi_clf_tfidf = MultinomialNB(alpha=0.5)\n",
    "\n",
    "multi_clf_tfidf.fit(texts_tfidf_train_matrix, y_train)\n",
    "multi_pred_tfidf = multi_clf_tfidf.predict(X=texts_tfidf_test_matrix)\n",
    "\n",
    "best_multi_tfidf = classification_report(y_test, multi_pred_tfidf, digits=4, output_dict=True)\n",
    "\n",
    "print(classification_report(y_test, multi_pred_tfidf, digits=4))"
   ]
  },
  {
   "cell_type": "markdown",
   "metadata": {
    "id": "ujufO7Wvgqcd"
   },
   "source": [
    "## Итоги"
   ]
  },
  {
   "cell_type": "code",
   "execution_count": 66,
   "metadata": {
    "colab": {
     "base_uri": "https://localhost:8080/",
     "height": 167
    },
    "id": "RM0OlihadSiz",
    "outputId": "1b98369e-2f05-467a-bc09-08622fac1eed",
    "scrolled": true
   },
   "outputs": [
    {
     "data": {
      "text/html": [
       "<div>\n",
       "<style scoped>\n",
       "    .dataframe tbody tr th:only-of-type {\n",
       "        vertical-align: middle;\n",
       "    }\n",
       "\n",
       "    .dataframe tbody tr th {\n",
       "        vertical-align: top;\n",
       "    }\n",
       "\n",
       "    .dataframe thead th {\n",
       "        text-align: right;\n",
       "    }\n",
       "</style>\n",
       "<table border=\"1\" class=\"dataframe\">\n",
       "  <thead>\n",
       "    <tr style=\"text-align: right;\">\n",
       "      <th></th>\n",
       "      <th>labels</th>\n",
       "      <th>f1-score macro avg</th>\n",
       "      <th>precision macro</th>\n",
       "      <th>recall_macro</th>\n",
       "    </tr>\n",
       "  </thead>\n",
       "  <tbody>\n",
       "    <tr>\n",
       "      <th>0</th>\n",
       "      <td>LinearSVC CountVectorizer</td>\n",
       "      <td>1.000000</td>\n",
       "      <td>1.000000</td>\n",
       "      <td>1.00000</td>\n",
       "    </tr>\n",
       "    <tr>\n",
       "      <th>1</th>\n",
       "      <td>LinearSVC TfidfVectorizer</td>\n",
       "      <td>1.000000</td>\n",
       "      <td>1.000000</td>\n",
       "      <td>1.00000</td>\n",
       "    </tr>\n",
       "    <tr>\n",
       "      <th>2</th>\n",
       "      <td>Multinomial TfidfVectorizer</td>\n",
       "      <td>0.985498</td>\n",
       "      <td>0.985780</td>\n",
       "      <td>0.98550</td>\n",
       "    </tr>\n",
       "    <tr>\n",
       "      <th>3</th>\n",
       "      <td>Multinomial CountVectorizer</td>\n",
       "      <td>0.984749</td>\n",
       "      <td>0.984838</td>\n",
       "      <td>0.98475</td>\n",
       "    </tr>\n",
       "  </tbody>\n",
       "</table>\n",
       "</div>"
      ],
      "text/plain": [
       "                        labels  f1-score macro avg  precision macro  \\\n",
       "0    LinearSVC CountVectorizer            1.000000         1.000000   \n",
       "1    LinearSVC TfidfVectorizer            1.000000         1.000000   \n",
       "2  Multinomial TfidfVectorizer            0.985498         0.985780   \n",
       "3  Multinomial CountVectorizer            0.984749         0.984838   \n",
       "\n",
       "   recall_macro  \n",
       "0       1.00000  \n",
       "1       1.00000  \n",
       "2       0.98550  \n",
       "3       0.98475  "
      ]
     },
     "execution_count": 66,
     "metadata": {},
     "output_type": "execute_result"
    }
   ],
   "source": [
    "models = ['Multinomial CountVectorizer', 'Multinomial TfidfVectorizer', 'LinearSVC CountVectorizer', 'LinearSVC TfidfVectorizer']\n",
    "f1 = []\n",
    "precision = []\n",
    "recall = []\n",
    "\n",
    "for enum, i in enumerate([best_multi_count, best_multi_tfidf, best_linear_svc_count, best_linear_svc_tfidf]):\n",
    "  # print(enum)\n",
    "  f1.append(i['macro avg']['f1-score'])\n",
    "  precision.append(i['macro avg']['precision'])\n",
    "  recall.append(i['macro avg']['recall'])\n",
    "\n",
    "pd.DataFrame({'labels':models, 'f1-score macro avg': f1, 'precision macro': precision, 'recall_macro': recall}).sort_values(by='f1-score macro avg', ascending=False).reset_index(drop=True)"
   ]
  },
  {
   "cell_type": "code",
   "execution_count": null,
   "metadata": {},
   "outputs": [],
   "source": []
  }
 ],
 "metadata": {
  "colab": {
   "collapsed_sections": [],
   "name": "MMO_RK2.ipynb",
   "provenance": [],
   "toc_visible": true
  },
  "kernelspec": {
   "display_name": "Python 3",
   "language": "python",
   "name": "python3"
  },
  "language_info": {
   "codemirror_mode": {
    "name": "ipython",
    "version": 3
   },
   "file_extension": ".py",
   "mimetype": "text/x-python",
   "name": "python",
   "nbconvert_exporter": "python",
   "pygments_lexer": "ipython3",
   "version": "3.7.5"
  }
 },
 "nbformat": 4,
 "nbformat_minor": 4
}
