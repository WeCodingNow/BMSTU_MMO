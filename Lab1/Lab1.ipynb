{
 "cells": [
  {
   "cell_type": "markdown",
   "metadata": {},
   "source": [
    "# Андреев Алексей ИУ5-23М"
   ]
  },
  {
   "cell_type": "markdown",
   "metadata": {},
   "source": [
    "#### Описание датасета\n",
    "> Датасет с данными о прокате велосипедов в Лондоне.\n",
    "\n",
    "Данные в датасете представляют информацию о погодных условиях, дате/времени и количестве велосипедов взятых на прокат в Лондоне за несколько лет\n",
    "\n",
    "#### Описание колонок\n",
    "Год — год, когда велосипед взят в аренду.\n",
    "\n",
    "Месяц — месяц, когда велосипед взят в аренду.\n",
    "\n",
    "День — день, когда велосипед взят в аренду.\n",
    "\n",
    "Время — время в часах, когда велосипед взят в аренду.\n",
    "\n",
    "Количество велосипедов — количество велосипедов, которые были взяты напрокат.\n",
    "\n",
    "Температура воздуха  — температура воздуха в градусах Цельсия.\n",
    "\n",
    "Ощущаемая температура — температура воздуха, ощущаемую человеком в градусах Цельсия.\n",
    "\n",
    "Влажность воздуха — текущую влажность воздуха, выраженную в процентах.\n",
    "\n",
    "Скорость ветра — скорость ветра в километрах в час.\n",
    "\n",
    "Код погоды — 1 - Ясно; 2 - Кучевые облака; 3 – Перистые облака 4 – Облачно; 7 - Дождь / Легкий дождь; 10 - Дождь с грозой; 26 – Снегопад; 94 - Замораживание тумана\n",
    "\n",
    "Выбранный день - праздничный — 1 если праздничный день.\n",
    "\n",
    "Выбранный день день - 1 если выходной.\n",
    "\n",
    "Время года — 0-весна; 1-лето; 2-осень; 3-зима.\n"
   ]
  },
  {
   "cell_type": "code",
   "execution_count": 2,
   "metadata": {},
   "outputs": [],
   "source": [
    "import pandas as pd\n",
    "import numpy as np\n",
    "\n",
    "import scipy.stats as stats\n",
    "\n",
    "from sklearn.linear_model import Lasso\n",
    "from sklearn.feature_selection import SelectFromModel\n",
    "import sklearn\n",
    "\n",
    "import matplotlib.pyplot as plt\n",
    "import seaborn as sns\n",
    "\n",
    "%matplotlib inline"
   ]
  },
  {
   "cell_type": "code",
   "execution_count": 4,
   "metadata": {},
   "outputs": [
    {
     "data": {
      "text/html": [
       "<div>\n",
       "<style scoped>\n",
       "    .dataframe tbody tr th:only-of-type {\n",
       "        vertical-align: middle;\n",
       "    }\n",
       "\n",
       "    .dataframe tbody tr th {\n",
       "        vertical-align: top;\n",
       "    }\n",
       "\n",
       "    .dataframe thead th {\n",
       "        text-align: right;\n",
       "    }\n",
       "</style>\n",
       "<table border=\"1\" class=\"dataframe\">\n",
       "  <thead>\n",
       "    <tr style=\"text-align: right;\">\n",
       "      <th></th>\n",
       "      <th>timestamp</th>\n",
       "      <th>cnt</th>\n",
       "      <th>t1</th>\n",
       "      <th>t2</th>\n",
       "      <th>hum</th>\n",
       "      <th>wind_speed</th>\n",
       "      <th>weather_code</th>\n",
       "      <th>is_holiday</th>\n",
       "      <th>is_weekend</th>\n",
       "      <th>season</th>\n",
       "      <th>year</th>\n",
       "      <th>month</th>\n",
       "      <th>day</th>\n",
       "      <th>hour</th>\n",
       "      <th>year_month</th>\n",
       "    </tr>\n",
       "  </thead>\n",
       "  <tbody>\n",
       "    <tr>\n",
       "      <th>0</th>\n",
       "      <td>2015-01-04 00:00:00</td>\n",
       "      <td>182</td>\n",
       "      <td>3.0</td>\n",
       "      <td>2.0</td>\n",
       "      <td>93.0</td>\n",
       "      <td>6.0</td>\n",
       "      <td>3.0</td>\n",
       "      <td>0.0</td>\n",
       "      <td>1.0</td>\n",
       "      <td>3.0</td>\n",
       "      <td>2015</td>\n",
       "      <td>1</td>\n",
       "      <td>4</td>\n",
       "      <td>0</td>\n",
       "      <td>2015_1</td>\n",
       "    </tr>\n",
       "    <tr>\n",
       "      <th>1</th>\n",
       "      <td>2015-01-04 01:00:00</td>\n",
       "      <td>138</td>\n",
       "      <td>3.0</td>\n",
       "      <td>2.5</td>\n",
       "      <td>93.0</td>\n",
       "      <td>5.0</td>\n",
       "      <td>1.0</td>\n",
       "      <td>0.0</td>\n",
       "      <td>1.0</td>\n",
       "      <td>3.0</td>\n",
       "      <td>2015</td>\n",
       "      <td>1</td>\n",
       "      <td>4</td>\n",
       "      <td>1</td>\n",
       "      <td>2015_1</td>\n",
       "    </tr>\n",
       "    <tr>\n",
       "      <th>2</th>\n",
       "      <td>2015-01-04 02:00:00</td>\n",
       "      <td>134</td>\n",
       "      <td>2.5</td>\n",
       "      <td>2.5</td>\n",
       "      <td>96.5</td>\n",
       "      <td>0.0</td>\n",
       "      <td>1.0</td>\n",
       "      <td>0.0</td>\n",
       "      <td>1.0</td>\n",
       "      <td>3.0</td>\n",
       "      <td>2015</td>\n",
       "      <td>1</td>\n",
       "      <td>4</td>\n",
       "      <td>2</td>\n",
       "      <td>2015_1</td>\n",
       "    </tr>\n",
       "    <tr>\n",
       "      <th>3</th>\n",
       "      <td>2015-01-04 03:00:00</td>\n",
       "      <td>72</td>\n",
       "      <td>2.0</td>\n",
       "      <td>2.0</td>\n",
       "      <td>100.0</td>\n",
       "      <td>0.0</td>\n",
       "      <td>1.0</td>\n",
       "      <td>0.0</td>\n",
       "      <td>1.0</td>\n",
       "      <td>3.0</td>\n",
       "      <td>2015</td>\n",
       "      <td>1</td>\n",
       "      <td>4</td>\n",
       "      <td>3</td>\n",
       "      <td>2015_1</td>\n",
       "    </tr>\n",
       "    <tr>\n",
       "      <th>4</th>\n",
       "      <td>2015-01-04 04:00:00</td>\n",
       "      <td>47</td>\n",
       "      <td>2.0</td>\n",
       "      <td>0.0</td>\n",
       "      <td>93.0</td>\n",
       "      <td>6.5</td>\n",
       "      <td>1.0</td>\n",
       "      <td>0.0</td>\n",
       "      <td>1.0</td>\n",
       "      <td>3.0</td>\n",
       "      <td>2015</td>\n",
       "      <td>1</td>\n",
       "      <td>4</td>\n",
       "      <td>4</td>\n",
       "      <td>2015_1</td>\n",
       "    </tr>\n",
       "  </tbody>\n",
       "</table>\n",
       "</div>"
      ],
      "text/plain": [
       "             timestamp  cnt   t1   t2    hum  wind_speed  weather_code  \\\n",
       "0  2015-01-04 00:00:00  182  3.0  2.0   93.0         6.0           3.0   \n",
       "1  2015-01-04 01:00:00  138  3.0  2.5   93.0         5.0           1.0   \n",
       "2  2015-01-04 02:00:00  134  2.5  2.5   96.5         0.0           1.0   \n",
       "3  2015-01-04 03:00:00   72  2.0  2.0  100.0         0.0           1.0   \n",
       "4  2015-01-04 04:00:00   47  2.0  0.0   93.0         6.5           1.0   \n",
       "\n",
       "   is_holiday  is_weekend  season  year  month  day  hour year_month  \n",
       "0         0.0         1.0     3.0  2015      1    4     0     2015_1  \n",
       "1         0.0         1.0     3.0  2015      1    4     1     2015_1  \n",
       "2         0.0         1.0     3.0  2015      1    4     2     2015_1  \n",
       "3         0.0         1.0     3.0  2015      1    4     3     2015_1  \n",
       "4         0.0         1.0     3.0  2015      1    4     4     2015_1  "
      ]
     },
     "execution_count": 4,
     "metadata": {},
     "output_type": "execute_result"
    }
   ],
   "source": [
    "data = pd.read_csv(\"london_merged.csv\")\n",
    "\n",
    "data['year'] = pd.DataFrame(data['timestamp'].apply(lambda x: pd.to_datetime(x).year))\n",
    "data['month'] = pd.DataFrame(data['timestamp'].apply(lambda x: pd.to_datetime(x).month))\n",
    "data['day'] = pd.DataFrame(data['timestamp'].apply(lambda x: pd.to_datetime(x).day))\n",
    "data['hour'] = pd.DataFrame(data['timestamp'].apply(lambda x: pd.to_datetime(x).hour))\n",
    "\n",
    "data['year_month'] = pd.DataFrame(data['timestamp'].apply(lambda x: str(pd.to_datetime(x).year)+'_'+str(pd.to_datetime(x).month) ))\n",
    "\n",
    "data.head(5)"
   ]
  },
  {
   "cell_type": "code",
   "execution_count": 20,
   "metadata": {},
   "outputs": [
    {
     "data": {
      "text/plain": [
       "[('timestamp', 'object', 0),\n",
       " ('cnt', 'int64', 0),\n",
       " ('t1', 'float64', 0),\n",
       " ('t2', 'float64', 0),\n",
       " ('hum', 'float64', 0),\n",
       " ('wind_speed', 'float64', 0),\n",
       " ('weather_code', 'float64', 0),\n",
       " ('is_holiday', 'float64', 0),\n",
       " ('is_weekend', 'float64', 0),\n",
       " ('season', 'float64', 0),\n",
       " ('year', 'int64', 0),\n",
       " ('month', 'int64', 0),\n",
       " ('day', 'int64', 0),\n",
       " ('hour', 'int64', 0),\n",
       " ('year_month', 'object', 0)]"
      ]
     },
     "execution_count": 20,
     "metadata": {},
     "output_type": "execute_result"
    }
   ],
   "source": [
    "list(zip(\n",
    "    [i for i in data.columns],\n",
    "    [str(i) for i in data.dtypes],\n",
    "    [i for i in data.isnull().sum()]\n",
    "))"
   ]
  },
  {
   "cell_type": "code",
   "execution_count": 22,
   "metadata": {},
   "outputs": [
    {
     "data": {
      "image/png": "[encoded data removed]",
      "text/plain": [
       "<Figure size 1080x1080 with 16 Axes>"
      ]
     },
     "metadata": {
      "needs_background": "light"
     },
     "output_type": "display_data"
    }
   ],
   "source": [
    "data.hist(figsize=(15,15));"
   ]
  },
  {
   "cell_type": "markdown",
   "metadata": {},
   "source": [
    "## ШАГ 1\n",
    "\n",
    "Спрос проката велосипедов в разные месяцы в течении двух лет"
   ]
  },
  {
   "cell_type": "code",
   "execution_count": 36,
   "metadata": {},
   "outputs": [
    {
     "data": {
      "image/png": "[encoded data removed]",
      "text/plain": [
       "<Figure size 1440x576 with 1 Axes>"
      ]
     },
     "metadata": {
      "needs_background": "light"
     },
     "output_type": "display_data"
    }
   ],
   "source": [
    "cnt_avg = []\n",
    "year_month_list = data['year_month'].unique()\n",
    "for year_month in year_month_list:\n",
    "    cnt_avg.append(int(\n",
    "        data[data['year_month']==year_month]['cnt'].mean()\n",
    "))  \n",
    "\n",
    "height = cnt_avg\n",
    "bars = year_month_list\n",
    "y_pos = np.arange(len(bars))\n",
    "\n",
    "plt.figure(figsize=(20,8))\n",
    "plt.bar(y_pos, height)\n",
    "plt.xticks(y_pos, bars)\n",
    "plt.show()"
   ]
  },
  {
   "cell_type": "markdown",
   "metadata": {},
   "source": [
    "Спрос на прокат велосипедов отличен в каждом месяце. Заметна закономерность, что спрос выше при приближении к лету.\n",
    "\n",
    "Самый маленький спрос - зимой.\n",
    "\n",
    "Также можно сделать вывод, что за год выросла актуальность велопроката. В 2016 году велопрокатом пользовались чуть больше чем в 2015 году, что говорит об успешности бизнеса велопроката.\n",
    "\n",
    "Посмотрим на схожий график, который описывает среднюю температуру за месяц за эти два года."
   ]
  },
  {
   "cell_type": "code",
   "execution_count": 37,
   "metadata": {},
   "outputs": [
    {
     "data": {
      "image/png": "[encoded data removed]",
      "text/plain": [
       "<Figure size 1440x576 with 1 Axes>"
      ]
     },
     "metadata": {
      "needs_background": "light"
     },
     "output_type": "display_data"
    }
   ],
   "source": [
    "# Средняя температура в каждом месяце года\n",
    "t1_avg = []\n",
    "year_month_list = data['year_month'].unique()\n",
    "for year_month in year_month_list:\n",
    "    t1_avg.append(data[data['year_month']==year_month]['t1'].mean())\n",
    "\n",
    "height = t1_avg\n",
    "bars = year_month_list\n",
    "y_pos = np.arange(len(bars))\n",
    "\n",
    "plt.figure(figsize=(20,8))\n",
    "plt.bar(y_pos, height)\n",
    "plt.xticks(y_pos, bars)\n",
    "plt.show()"
   ]
  },
  {
   "cell_type": "markdown",
   "metadata": {},
   "source": [
    "И последних двух графиков можно сделать вывод, что температура в течение месяца сильно скореллирована с тем, сколько велосипедов берётся на прокат."
   ]
  },
  {
   "cell_type": "markdown",
   "metadata": {},
   "source": [
    "# ШАГ 2"
   ]
  },
  {
   "cell_type": "markdown",
   "metadata": {},
   "source": [
    "В датасете два похожих столбца: температура воздуха и ощущаемая температура. Нужно определить, какое из этих значение больше влияет на количество велосипедов взятых в прокат. Первое предположение - ощущаемая температура сильнее влияет на целевой признак."
   ]
  },
  {
   "cell_type": "code",
   "execution_count": 38,
   "metadata": {},
   "outputs": [
    {
     "data": {
      "text/html": [
       "<div>\n",
       "<style scoped>\n",
       "    .dataframe tbody tr th:only-of-type {\n",
       "        vertical-align: middle;\n",
       "    }\n",
       "\n",
       "    .dataframe tbody tr th {\n",
       "        vertical-align: top;\n",
       "    }\n",
       "\n",
       "    .dataframe thead th {\n",
       "        text-align: right;\n",
       "    }\n",
       "</style>\n",
       "<table border=\"1\" class=\"dataframe\">\n",
       "  <thead>\n",
       "    <tr style=\"text-align: right;\">\n",
       "      <th></th>\n",
       "      <th>cnt</th>\n",
       "      <th>t1</th>\n",
       "      <th>t2</th>\n",
       "      <th>hum</th>\n",
       "      <th>wind_speed</th>\n",
       "      <th>weather_code</th>\n",
       "      <th>is_holiday</th>\n",
       "      <th>is_weekend</th>\n",
       "      <th>season</th>\n",
       "      <th>year</th>\n",
       "      <th>month</th>\n",
       "      <th>day</th>\n",
       "      <th>hour</th>\n",
       "    </tr>\n",
       "  </thead>\n",
       "  <tbody>\n",
       "    <tr>\n",
       "      <th>cnt</th>\n",
       "      <td>1.000000</td>\n",
       "      <td>0.388798</td>\n",
       "      <td>0.369035</td>\n",
       "      <td>-0.462901</td>\n",
       "      <td>0.116295</td>\n",
       "      <td>-0.166633</td>\n",
       "      <td>-0.051698</td>\n",
       "      <td>-0.096499</td>\n",
       "      <td>-0.116180</td>\n",
       "      <td>0.010046</td>\n",
       "      <td>0.063757</td>\n",
       "      <td>-0.017887</td>\n",
       "      <td>0.324423</td>\n",
       "    </tr>\n",
       "    <tr>\n",
       "      <th>t1</th>\n",
       "      <td>0.388798</td>\n",
       "      <td>1.000000</td>\n",
       "      <td>0.988344</td>\n",
       "      <td>-0.447781</td>\n",
       "      <td>0.145471</td>\n",
       "      <td>-0.097114</td>\n",
       "      <td>-0.042233</td>\n",
       "      <td>-0.005342</td>\n",
       "      <td>-0.285851</td>\n",
       "      <td>-0.037959</td>\n",
       "      <td>0.332712</td>\n",
       "      <td>0.005072</td>\n",
       "      <td>0.168708</td>\n",
       "    </tr>\n",
       "    <tr>\n",
       "      <th>t2</th>\n",
       "      <td>0.369035</td>\n",
       "      <td>0.988344</td>\n",
       "      <td>1.000000</td>\n",
       "      <td>-0.403495</td>\n",
       "      <td>0.088409</td>\n",
       "      <td>-0.098385</td>\n",
       "      <td>-0.040051</td>\n",
       "      <td>-0.008510</td>\n",
       "      <td>-0.285900</td>\n",
       "      <td>-0.044972</td>\n",
       "      <td>0.368366</td>\n",
       "      <td>0.006791</td>\n",
       "      <td>0.153956</td>\n",
       "    </tr>\n",
       "    <tr>\n",
       "      <th>hum</th>\n",
       "      <td>-0.462901</td>\n",
       "      <td>-0.447781</td>\n",
       "      <td>-0.403495</td>\n",
       "      <td>1.000000</td>\n",
       "      <td>-0.287789</td>\n",
       "      <td>0.334750</td>\n",
       "      <td>0.032068</td>\n",
       "      <td>0.028098</td>\n",
       "      <td>0.290381</td>\n",
       "      <td>0.072443</td>\n",
       "      <td>0.113149</td>\n",
       "      <td>-0.020868</td>\n",
       "      <td>-0.295653</td>\n",
       "    </tr>\n",
       "    <tr>\n",
       "      <th>wind_speed</th>\n",
       "      <td>0.116295</td>\n",
       "      <td>0.145471</td>\n",
       "      <td>0.088409</td>\n",
       "      <td>-0.287789</td>\n",
       "      <td>1.000000</td>\n",
       "      <td>0.124803</td>\n",
       "      <td>-0.002606</td>\n",
       "      <td>0.011479</td>\n",
       "      <td>0.010305</td>\n",
       "      <td>-0.094739</td>\n",
       "      <td>-0.086383</td>\n",
       "      <td>0.002040</td>\n",
       "      <td>0.141792</td>\n",
       "    </tr>\n",
       "    <tr>\n",
       "      <th>weather_code</th>\n",
       "      <td>-0.166633</td>\n",
       "      <td>-0.097114</td>\n",
       "      <td>-0.098385</td>\n",
       "      <td>0.334750</td>\n",
       "      <td>0.124803</td>\n",
       "      <td>1.000000</td>\n",
       "      <td>0.012939</td>\n",
       "      <td>0.042362</td>\n",
       "      <td>0.098976</td>\n",
       "      <td>-0.009234</td>\n",
       "      <td>-0.033253</td>\n",
       "      <td>0.001904</td>\n",
       "      <td>-0.041786</td>\n",
       "    </tr>\n",
       "    <tr>\n",
       "      <th>is_holiday</th>\n",
       "      <td>-0.051698</td>\n",
       "      <td>-0.042233</td>\n",
       "      <td>-0.040051</td>\n",
       "      <td>0.032068</td>\n",
       "      <td>-0.002606</td>\n",
       "      <td>0.012939</td>\n",
       "      <td>1.000000</td>\n",
       "      <td>-0.094898</td>\n",
       "      <td>-0.032488</td>\n",
       "      <td>0.034631</td>\n",
       "      <td>-0.011511</td>\n",
       "      <td>0.042657</td>\n",
       "      <td>-0.000288</td>\n",
       "    </tr>\n",
       "    <tr>\n",
       "      <th>is_weekend</th>\n",
       "      <td>-0.096499</td>\n",
       "      <td>-0.005342</td>\n",
       "      <td>-0.008510</td>\n",
       "      <td>0.028098</td>\n",
       "      <td>0.011479</td>\n",
       "      <td>0.042362</td>\n",
       "      <td>-0.094898</td>\n",
       "      <td>1.000000</td>\n",
       "      <td>0.001067</td>\n",
       "      <td>0.003049</td>\n",
       "      <td>-0.005406</td>\n",
       "      <td>0.005721</td>\n",
       "      <td>0.001803</td>\n",
       "    </tr>\n",
       "    <tr>\n",
       "      <th>season</th>\n",
       "      <td>-0.116180</td>\n",
       "      <td>-0.285851</td>\n",
       "      <td>-0.285900</td>\n",
       "      <td>0.290381</td>\n",
       "      <td>0.010305</td>\n",
       "      <td>0.098976</td>\n",
       "      <td>-0.032488</td>\n",
       "      <td>0.001067</td>\n",
       "      <td>1.000000</td>\n",
       "      <td>0.024400</td>\n",
       "      <td>0.203249</td>\n",
       "      <td>-0.006460</td>\n",
       "      <td>0.000006</td>\n",
       "    </tr>\n",
       "    <tr>\n",
       "      <th>year</th>\n",
       "      <td>0.010046</td>\n",
       "      <td>-0.037959</td>\n",
       "      <td>-0.044972</td>\n",
       "      <td>0.072443</td>\n",
       "      <td>-0.094739</td>\n",
       "      <td>-0.009234</td>\n",
       "      <td>0.034631</td>\n",
       "      <td>0.003049</td>\n",
       "      <td>0.024400</td>\n",
       "      <td>1.000000</td>\n",
       "      <td>-0.026547</td>\n",
       "      <td>-0.021935</td>\n",
       "      <td>0.000542</td>\n",
       "    </tr>\n",
       "    <tr>\n",
       "      <th>month</th>\n",
       "      <td>0.063757</td>\n",
       "      <td>0.332712</td>\n",
       "      <td>0.368366</td>\n",
       "      <td>0.113149</td>\n",
       "      <td>-0.086383</td>\n",
       "      <td>-0.033253</td>\n",
       "      <td>-0.011511</td>\n",
       "      <td>-0.005406</td>\n",
       "      <td>0.203249</td>\n",
       "      <td>-0.026547</td>\n",
       "      <td>1.000000</td>\n",
       "      <td>0.012614</td>\n",
       "      <td>-0.000312</td>\n",
       "    </tr>\n",
       "    <tr>\n",
       "      <th>day</th>\n",
       "      <td>-0.017887</td>\n",
       "      <td>0.005072</td>\n",
       "      <td>0.006791</td>\n",
       "      <td>-0.020868</td>\n",
       "      <td>0.002040</td>\n",
       "      <td>0.001904</td>\n",
       "      <td>0.042657</td>\n",
       "      <td>0.005721</td>\n",
       "      <td>-0.006460</td>\n",
       "      <td>-0.021935</td>\n",
       "      <td>0.012614</td>\n",
       "      <td>1.000000</td>\n",
       "      <td>-0.000310</td>\n",
       "    </tr>\n",
       "    <tr>\n",
       "      <th>hour</th>\n",
       "      <td>0.324423</td>\n",
       "      <td>0.168708</td>\n",
       "      <td>0.153956</td>\n",
       "      <td>-0.295653</td>\n",
       "      <td>0.141792</td>\n",
       "      <td>-0.041786</td>\n",
       "      <td>-0.000288</td>\n",
       "      <td>0.001803</td>\n",
       "      <td>0.000006</td>\n",
       "      <td>0.000542</td>\n",
       "      <td>-0.000312</td>\n",
       "      <td>-0.000310</td>\n",
       "      <td>1.000000</td>\n",
       "    </tr>\n",
       "  </tbody>\n",
       "</table>\n",
       "</div>"
      ],
      "text/plain": [
       "                   cnt        t1        t2       hum  wind_speed  \\\n",
       "cnt           1.000000  0.388798  0.369035 -0.462901    0.116295   \n",
       "t1            0.388798  1.000000  0.988344 -0.447781    0.145471   \n",
       "t2            0.369035  0.988344  1.000000 -0.403495    0.088409   \n",
       "hum          -0.462901 -0.447781 -0.403495  1.000000   -0.287789   \n",
       "wind_speed    0.116295  0.145471  0.088409 -0.287789    1.000000   \n",
       "weather_code -0.166633 -0.097114 -0.098385  0.334750    0.124803   \n",
       "is_holiday   -0.051698 -0.042233 -0.040051  0.032068   -0.002606   \n",
       "is_weekend   -0.096499 -0.005342 -0.008510  0.028098    0.011479   \n",
       "season       -0.116180 -0.285851 -0.285900  0.290381    0.010305   \n",
       "year          0.010046 -0.037959 -0.044972  0.072443   -0.094739   \n",
       "month         0.063757  0.332712  0.368366  0.113149   -0.086383   \n",
       "day          -0.017887  0.005072  0.006791 -0.020868    0.002040   \n",
       "hour          0.324423  0.168708  0.153956 -0.295653    0.141792   \n",
       "\n",
       "              weather_code  is_holiday  is_weekend    season      year  \\\n",
       "cnt              -0.166633   -0.051698   -0.096499 -0.116180  0.010046   \n",
       "t1               -0.097114   -0.042233   -0.005342 -0.285851 -0.037959   \n",
       "t2               -0.098385   -0.040051   -0.008510 -0.285900 -0.044972   \n",
       "hum               0.334750    0.032068    0.028098  0.290381  0.072443   \n",
       "wind_speed        0.124803   -0.002606    0.011479  0.010305 -0.094739   \n",
       "weather_code      1.000000    0.012939    0.042362  0.098976 -0.009234   \n",
       "is_holiday        0.012939    1.000000   -0.094898 -0.032488  0.034631   \n",
       "is_weekend        0.042362   -0.094898    1.000000  0.001067  0.003049   \n",
       "season            0.098976   -0.032488    0.001067  1.000000  0.024400   \n",
       "year             -0.009234    0.034631    0.003049  0.024400  1.000000   \n",
       "month            -0.033253   -0.011511   -0.005406  0.203249 -0.026547   \n",
       "day               0.001904    0.042657    0.005721 -0.006460 -0.021935   \n",
       "hour             -0.041786   -0.000288    0.001803  0.000006  0.000542   \n",
       "\n",
       "                 month       day      hour  \n",
       "cnt           0.063757 -0.017887  0.324423  \n",
       "t1            0.332712  0.005072  0.168708  \n",
       "t2            0.368366  0.006791  0.153956  \n",
       "hum           0.113149 -0.020868 -0.295653  \n",
       "wind_speed   -0.086383  0.002040  0.141792  \n",
       "weather_code -0.033253  0.001904 -0.041786  \n",
       "is_holiday   -0.011511  0.042657 -0.000288  \n",
       "is_weekend   -0.005406  0.005721  0.001803  \n",
       "season        0.203249 -0.006460  0.000006  \n",
       "year         -0.026547 -0.021935  0.000542  \n",
       "month         1.000000  0.012614 -0.000312  \n",
       "day           0.012614  1.000000 -0.000310  \n",
       "hour         -0.000312 -0.000310  1.000000  "
      ]
     },
     "execution_count": 38,
     "metadata": {},
     "output_type": "execute_result"
    }
   ],
   "source": [
    "data.corr()"
   ]
  },
  {
   "cell_type": "code",
   "execution_count": 40,
   "metadata": {},
   "outputs": [
    {
     "data": {
      "image/png": "[encoded data removed]",
      "text/plain": [
       "<Figure size 432x288 with 2 Axes>"
      ]
     },
     "metadata": {
      "needs_background": "light"
     },
     "output_type": "display_data"
    }
   ],
   "source": [
    "sns.heatmap(data.corr());"
   ]
  },
  {
   "cell_type": "markdown",
   "metadata": {},
   "source": [
    "Нет большой разницы между ощущаемой температурой и температурой воздуха. Однако, абсолютное значение температуры воздуха имеет большую корреляцию с целевым признаком - значение коэффициента корреляции температуры воздуха и количеством велосипедов равно 0.388, а между ощущаемой температурой и количеством велосипедов равно 0.369.\n",
    "\n",
    "Делаю вывод, что для обучения модели для определения количества велосипедов, взятых в прокат лучше использовать абсолютное значение температуры воздуха, а не ощущаемую температуру."
   ]
  },
  {
   "cell_type": "markdown",
   "metadata": {},
   "source": [
    "# ШАГ 3"
   ]
  },
  {
   "cell_type": "markdown",
   "metadata": {},
   "source": [
    "Есть большой коэффициент корреляции между влажностью и целевым признаком, равный -0.46.\n",
    "\n",
    "Проведём исследование того, как влажность зависит от остальных признаков. "
   ]
  },
  {
   "cell_type": "code",
   "execution_count": 57,
   "metadata": {},
   "outputs": [
    {
     "data": {
      "image/png": "[encoded data removed]",
      "text/plain": [
       "<Figure size 432x288 with 1 Axes>"
      ]
     },
     "metadata": {
      "needs_background": "light"
     },
     "output_type": "display_data"
    }
   ],
   "source": [
    "hum_avg = []\n",
    "hour_list = data['hour'].unique()\n",
    "for hour in hour_list:\n",
    "    hum_avg.append(data[data['hour']==hour]['hum'].mean())\n",
    "\n",
    "sns.regplot(x=hour_list, y=hum_avg);"
   ]
  },
  {
   "cell_type": "markdown",
   "metadata": {},
   "source": [
    "Есть зависимость влажности от времени суток.  \n",
    "Возможно, на влажность действует как время суток, так и температура воздуха. Построим диграмму для трёх параметров."
   ]
  },
  {
   "cell_type": "code",
   "execution_count": 58,
   "metadata": {},
   "outputs": [
    {
     "data": {
      "text/html": [
       "<div>\n",
       "<style scoped>\n",
       "    .dataframe tbody tr th:only-of-type {\n",
       "        vertical-align: middle;\n",
       "    }\n",
       "\n",
       "    .dataframe tbody tr th {\n",
       "        vertical-align: top;\n",
       "    }\n",
       "\n",
       "    .dataframe thead th {\n",
       "        text-align: right;\n",
       "    }\n",
       "</style>\n",
       "<table border=\"1\" class=\"dataframe\">\n",
       "  <thead>\n",
       "    <tr style=\"text-align: right;\">\n",
       "      <th></th>\n",
       "      <th>hum_avg</th>\n",
       "      <th>t1_avg</th>\n",
       "      <th>hour</th>\n",
       "    </tr>\n",
       "  </thead>\n",
       "  <tbody>\n",
       "    <tr>\n",
       "      <th>0</th>\n",
       "      <td>78.138467</td>\n",
       "      <td>11.239641</td>\n",
       "      <td>0</td>\n",
       "    </tr>\n",
       "    <tr>\n",
       "      <th>1</th>\n",
       "      <td>79.301796</td>\n",
       "      <td>10.976289</td>\n",
       "      <td>1</td>\n",
       "    </tr>\n",
       "    <tr>\n",
       "      <th>2</th>\n",
       "      <td>80.303745</td>\n",
       "      <td>10.741331</td>\n",
       "      <td>2</td>\n",
       "    </tr>\n",
       "    <tr>\n",
       "      <th>3</th>\n",
       "      <td>81.077670</td>\n",
       "      <td>10.531900</td>\n",
       "      <td>3</td>\n",
       "    </tr>\n",
       "    <tr>\n",
       "      <th>4</th>\n",
       "      <td>81.670596</td>\n",
       "      <td>10.357143</td>\n",
       "      <td>4</td>\n",
       "    </tr>\n",
       "  </tbody>\n",
       "</table>\n",
       "</div>"
      ],
      "text/plain": [
       "     hum_avg     t1_avg  hour\n",
       "0  78.138467  11.239641     0\n",
       "1  79.301796  10.976289     1\n",
       "2  80.303745  10.741331     2\n",
       "3  81.077670  10.531900     3\n",
       "4  81.670596  10.357143     4"
      ]
     },
     "execution_count": 58,
     "metadata": {},
     "output_type": "execute_result"
    }
   ],
   "source": [
    "hum_avg = []\n",
    "t1_avg = []\n",
    "hour_list = data['hour'].unique()\n",
    "for hour in hour_list:\n",
    "    hum_avg.append(data[data['hour']==hour]['hum'].mean())\n",
    "    t1_avg.append(data[data['hour']==hour]['t1'].mean())\n",
    "    \n",
    "df_for_scatterplot = pd.DataFrame(zip(hum_avg, t1_avg, hour_list),\n",
    "                                  columns=['hum_avg', 't1_avg', 'hour'])\n",
    "df_for_scatterplot[:5]"
   ]
  },
  {
   "cell_type": "code",
   "execution_count": 59,
   "metadata": {},
   "outputs": [
    {
     "data": {
      "image/png": "[encoded data removed]",
      "text/plain": [
       "<Figure size 432x288 with 1 Axes>"
      ]
     },
     "metadata": {
      "needs_background": "light"
     },
     "output_type": "display_data"
    }
   ],
   "source": [
    "sns.scatterplot(data=df_for_scatterplot,\n",
    "                x='hour',\n",
    "                y='t1_avg',\n",
    "                size='hum_avg',\n",
    "                legend=False,\n",
    "                sizes=(20, 700))\n",
    "plt.show()"
   ]
  },
  {
   "cell_type": "markdown",
   "metadata": {},
   "source": [
    "Влажность тем ниже, чем выше температура, при этом температура повышается в дневной период с 10 до 20 часов.\n",
    "\n",
    "Можно сделать вывод, что количество велосипедов в прокате повышается в дневное время, и в это же время понижается влажность и повышается температура, благодаря чему люди предпочитают взять в прокат велосипед именно в это время."
   ]
  },
  {
   "cell_type": "markdown",
   "metadata": {},
   "source": [
    "# ШАГ 4"
   ]
  },
  {
   "cell_type": "markdown",
   "metadata": {},
   "source": [
    "Делаю предположение, что в праздничные дни в прокате находится больше велосипедов."
   ]
  },
  {
   "cell_type": "code",
   "execution_count": 62,
   "metadata": {},
   "outputs": [
    {
     "data": {
      "text/html": [
       "<div>\n",
       "<style scoped>\n",
       "    .dataframe tbody tr th:only-of-type {\n",
       "        vertical-align: middle;\n",
       "    }\n",
       "\n",
       "    .dataframe tbody tr th {\n",
       "        vertical-align: top;\n",
       "    }\n",
       "\n",
       "    .dataframe thead th {\n",
       "        text-align: right;\n",
       "    }\n",
       "</style>\n",
       "<table border=\"1\" class=\"dataframe\">\n",
       "  <thead>\n",
       "    <tr style=\"text-align: right;\">\n",
       "      <th></th>\n",
       "      <th>timestamp</th>\n",
       "      <th>cnt</th>\n",
       "      <th>t1</th>\n",
       "      <th>t2</th>\n",
       "      <th>hum</th>\n",
       "      <th>wind_speed</th>\n",
       "      <th>weather_code</th>\n",
       "      <th>is_holiday</th>\n",
       "      <th>is_weekend</th>\n",
       "      <th>season</th>\n",
       "      <th>year</th>\n",
       "      <th>month</th>\n",
       "      <th>day</th>\n",
       "      <th>hour</th>\n",
       "      <th>year_month</th>\n",
       "    </tr>\n",
       "  </thead>\n",
       "  <tbody>\n",
       "    <tr>\n",
       "      <th>2129</th>\n",
       "      <td>2015-04-03 00:00:00</td>\n",
       "      <td>279</td>\n",
       "      <td>8.0</td>\n",
       "      <td>6.0</td>\n",
       "      <td>82.0</td>\n",
       "      <td>10.0</td>\n",
       "      <td>7.0</td>\n",
       "      <td>1.0</td>\n",
       "      <td>0.0</td>\n",
       "      <td>0.0</td>\n",
       "      <td>2015</td>\n",
       "      <td>4</td>\n",
       "      <td>3</td>\n",
       "      <td>0</td>\n",
       "      <td>2015_4</td>\n",
       "    </tr>\n",
       "    <tr>\n",
       "      <th>2130</th>\n",
       "      <td>2015-04-03 01:00:00</td>\n",
       "      <td>174</td>\n",
       "      <td>8.0</td>\n",
       "      <td>5.5</td>\n",
       "      <td>79.0</td>\n",
       "      <td>14.0</td>\n",
       "      <td>7.0</td>\n",
       "      <td>1.0</td>\n",
       "      <td>0.0</td>\n",
       "      <td>0.0</td>\n",
       "      <td>2015</td>\n",
       "      <td>4</td>\n",
       "      <td>3</td>\n",
       "      <td>1</td>\n",
       "      <td>2015_4</td>\n",
       "    </tr>\n",
       "    <tr>\n",
       "      <th>2131</th>\n",
       "      <td>2015-04-03 02:00:00</td>\n",
       "      <td>89</td>\n",
       "      <td>7.5</td>\n",
       "      <td>5.5</td>\n",
       "      <td>84.5</td>\n",
       "      <td>12.0</td>\n",
       "      <td>7.0</td>\n",
       "      <td>1.0</td>\n",
       "      <td>0.0</td>\n",
       "      <td>0.0</td>\n",
       "      <td>2015</td>\n",
       "      <td>4</td>\n",
       "      <td>3</td>\n",
       "      <td>2</td>\n",
       "      <td>2015_4</td>\n",
       "    </tr>\n",
       "    <tr>\n",
       "      <th>2132</th>\n",
       "      <td>2015-04-03 03:00:00</td>\n",
       "      <td>61</td>\n",
       "      <td>7.0</td>\n",
       "      <td>5.0</td>\n",
       "      <td>87.0</td>\n",
       "      <td>11.0</td>\n",
       "      <td>7.0</td>\n",
       "      <td>1.0</td>\n",
       "      <td>0.0</td>\n",
       "      <td>0.0</td>\n",
       "      <td>2015</td>\n",
       "      <td>4</td>\n",
       "      <td>3</td>\n",
       "      <td>3</td>\n",
       "      <td>2015_4</td>\n",
       "    </tr>\n",
       "    <tr>\n",
       "      <th>2133</th>\n",
       "      <td>2015-04-03 04:00:00</td>\n",
       "      <td>46</td>\n",
       "      <td>7.0</td>\n",
       "      <td>6.0</td>\n",
       "      <td>93.0</td>\n",
       "      <td>6.0</td>\n",
       "      <td>7.0</td>\n",
       "      <td>1.0</td>\n",
       "      <td>0.0</td>\n",
       "      <td>0.0</td>\n",
       "      <td>2015</td>\n",
       "      <td>4</td>\n",
       "      <td>3</td>\n",
       "      <td>4</td>\n",
       "      <td>2015_4</td>\n",
       "    </tr>\n",
       "    <tr>\n",
       "      <th>...</th>\n",
       "      <td>...</td>\n",
       "      <td>...</td>\n",
       "      <td>...</td>\n",
       "      <td>...</td>\n",
       "      <td>...</td>\n",
       "      <td>...</td>\n",
       "      <td>...</td>\n",
       "      <td>...</td>\n",
       "      <td>...</td>\n",
       "      <td>...</td>\n",
       "      <td>...</td>\n",
       "      <td>...</td>\n",
       "      <td>...</td>\n",
       "      <td>...</td>\n",
       "      <td>...</td>\n",
       "    </tr>\n",
       "    <tr>\n",
       "      <th>17385</th>\n",
       "      <td>2017-01-02 19:00:00</td>\n",
       "      <td>433</td>\n",
       "      <td>3.0</td>\n",
       "      <td>0.0</td>\n",
       "      <td>81.0</td>\n",
       "      <td>11.0</td>\n",
       "      <td>1.0</td>\n",
       "      <td>1.0</td>\n",
       "      <td>0.0</td>\n",
       "      <td>3.0</td>\n",
       "      <td>2017</td>\n",
       "      <td>1</td>\n",
       "      <td>2</td>\n",
       "      <td>19</td>\n",
       "      <td>2017_1</td>\n",
       "    </tr>\n",
       "    <tr>\n",
       "      <th>17386</th>\n",
       "      <td>2017-01-02 20:00:00</td>\n",
       "      <td>334</td>\n",
       "      <td>3.0</td>\n",
       "      <td>0.0</td>\n",
       "      <td>75.0</td>\n",
       "      <td>13.0</td>\n",
       "      <td>1.0</td>\n",
       "      <td>1.0</td>\n",
       "      <td>0.0</td>\n",
       "      <td>3.0</td>\n",
       "      <td>2017</td>\n",
       "      <td>1</td>\n",
       "      <td>2</td>\n",
       "      <td>20</td>\n",
       "      <td>2017_1</td>\n",
       "    </tr>\n",
       "    <tr>\n",
       "      <th>17387</th>\n",
       "      <td>2017-01-02 21:00:00</td>\n",
       "      <td>233</td>\n",
       "      <td>2.5</td>\n",
       "      <td>-0.5</td>\n",
       "      <td>78.0</td>\n",
       "      <td>11.0</td>\n",
       "      <td>1.0</td>\n",
       "      <td>1.0</td>\n",
       "      <td>0.0</td>\n",
       "      <td>3.0</td>\n",
       "      <td>2017</td>\n",
       "      <td>1</td>\n",
       "      <td>2</td>\n",
       "      <td>21</td>\n",
       "      <td>2017_1</td>\n",
       "    </tr>\n",
       "    <tr>\n",
       "      <th>17388</th>\n",
       "      <td>2017-01-02 22:00:00</td>\n",
       "      <td>201</td>\n",
       "      <td>2.0</td>\n",
       "      <td>-1.0</td>\n",
       "      <td>81.0</td>\n",
       "      <td>10.0</td>\n",
       "      <td>1.0</td>\n",
       "      <td>1.0</td>\n",
       "      <td>0.0</td>\n",
       "      <td>3.0</td>\n",
       "      <td>2017</td>\n",
       "      <td>1</td>\n",
       "      <td>2</td>\n",
       "      <td>22</td>\n",
       "      <td>2017_1</td>\n",
       "    </tr>\n",
       "    <tr>\n",
       "      <th>17389</th>\n",
       "      <td>2017-01-02 23:00:00</td>\n",
       "      <td>145</td>\n",
       "      <td>1.0</td>\n",
       "      <td>-2.0</td>\n",
       "      <td>93.0</td>\n",
       "      <td>10.0</td>\n",
       "      <td>1.0</td>\n",
       "      <td>1.0</td>\n",
       "      <td>0.0</td>\n",
       "      <td>3.0</td>\n",
       "      <td>2017</td>\n",
       "      <td>1</td>\n",
       "      <td>2</td>\n",
       "      <td>23</td>\n",
       "      <td>2017_1</td>\n",
       "    </tr>\n",
       "  </tbody>\n",
       "</table>\n",
       "<p>384 rows × 15 columns</p>\n",
       "</div>"
      ],
      "text/plain": [
       "                 timestamp  cnt   t1   t2   hum  wind_speed  weather_code  \\\n",
       "2129   2015-04-03 00:00:00  279  8.0  6.0  82.0        10.0           7.0   \n",
       "2130   2015-04-03 01:00:00  174  8.0  5.5  79.0        14.0           7.0   \n",
       "2131   2015-04-03 02:00:00   89  7.5  5.5  84.5        12.0           7.0   \n",
       "2132   2015-04-03 03:00:00   61  7.0  5.0  87.0        11.0           7.0   \n",
       "2133   2015-04-03 04:00:00   46  7.0  6.0  93.0         6.0           7.0   \n",
       "...                    ...  ...  ...  ...   ...         ...           ...   \n",
       "17385  2017-01-02 19:00:00  433  3.0  0.0  81.0        11.0           1.0   \n",
       "17386  2017-01-02 20:00:00  334  3.0  0.0  75.0        13.0           1.0   \n",
       "17387  2017-01-02 21:00:00  233  2.5 -0.5  78.0        11.0           1.0   \n",
       "17388  2017-01-02 22:00:00  201  2.0 -1.0  81.0        10.0           1.0   \n",
       "17389  2017-01-02 23:00:00  145  1.0 -2.0  93.0        10.0           1.0   \n",
       "\n",
       "       is_holiday  is_weekend  season  year  month  day  hour year_month  \n",
       "2129          1.0         0.0     0.0  2015      4    3     0     2015_4  \n",
       "2130          1.0         0.0     0.0  2015      4    3     1     2015_4  \n",
       "2131          1.0         0.0     0.0  2015      4    3     2     2015_4  \n",
       "2132          1.0         0.0     0.0  2015      4    3     3     2015_4  \n",
       "2133          1.0         0.0     0.0  2015      4    3     4     2015_4  \n",
       "...           ...         ...     ...   ...    ...  ...   ...        ...  \n",
       "17385         1.0         0.0     3.0  2017      1    2    19     2017_1  \n",
       "17386         1.0         0.0     3.0  2017      1    2    20     2017_1  \n",
       "17387         1.0         0.0     3.0  2017      1    2    21     2017_1  \n",
       "17388         1.0         0.0     3.0  2017      1    2    22     2017_1  \n",
       "17389         1.0         0.0     3.0  2017      1    2    23     2017_1  \n",
       "\n",
       "[384 rows x 15 columns]"
      ]
     },
     "execution_count": 62,
     "metadata": {},
     "output_type": "execute_result"
    }
   ],
   "source": [
    "data_is_holiday = data[data['is_holiday']==1]\n",
    "data_not_holiday = data[data['is_holiday']==0]\n",
    "\n",
    "# всего 384/24 = 16 праздничных дней за 2 года\n",
    "data_is_holiday"
   ]
  },
  {
   "cell_type": "code",
   "execution_count": 63,
   "metadata": {},
   "outputs": [
    {
     "data": {
      "image/png": "[encoded data removed]",
      "text/plain": [
       "<Figure size 432x288 with 1 Axes>"
      ]
     },
     "metadata": {
      "needs_background": "light"
     },
     "output_type": "display_data"
    }
   ],
   "source": [
    "cnt_avg_is_holiday = []\n",
    "cnt_avg_not_holiday = []\n",
    "hour_list = data['hour'].unique()\n",
    "for hour in hour_list:\n",
    "    cnt_avg_is_holiday.append(int(data_is_holiday[data_is_holiday['hour']==hour]['cnt'].mean()))\n",
    "    \n",
    "for hour in hour_list:\n",
    "    cnt_avg_not_holiday.append(int(data_not_holiday[data_not_holiday['hour']==hour]['cnt'].mean()))\n",
    "\n",
    "    \n",
    "fig, ax = plt.subplots()\n",
    "ax.plot(hour_list, cnt_avg_not_holiday, color='blue', lw=3)\n",
    "ax.plot(hour_list, cnt_avg_is_holiday, color='green', lw=3)\n",
    "ax.fill_between(hour_list, 0, cnt_avg_not_holiday, alpha=.3)\n",
    "ax.fill_between(hour_list, 0, cnt_avg_is_holiday, alpha=.3)\n",
    "ax.set(xlim=(0, len(hour_list) - 1), ylim=(0, None), xticks=hour_list)\n",
    "\n",
    "# Show the graph\n",
    "plt.show()"
   ]
  },
  {
   "cell_type": "markdown",
   "metadata": {},
   "source": [
    "Диаграмма выше показывает количество взятых велосипедов в зависимости от времени.\n",
    "\n",
    "Синий график - количество велосипедов взятых в обычные дни.\n",
    "\n",
    "Зеленый график - количество велосипедов взятых в празднчиные дни.\n",
    "\n",
    "\n",
    "Делаю вывод: в обычные (в основном будние) дни люди берут на прокат велосипеды утром и вечером (едут на работу и с работы). В праздничные дни пик велопроката в 14-15 часов (при этом не намного больше, чем в обычные дни), а утром и вечером в праздничные дни мало велосипедов находится в прокате."
   ]
  },
  {
   "cell_type": "markdown",
   "metadata": {},
   "source": [
    "# ШАГ 5"
   ]
  },
  {
   "cell_type": "markdown",
   "metadata": {},
   "source": [
    "Теперь проведём анализ проката велосипедов относительно погодных условий.\n",
    "\n",
    "\n",
    "Код погоды — 1 - Ясно; 2 - Кучевые облака; 3 – Перистые облака 4 – Облачно; 7 - Дождь / Легкий дождь; 10 - Дождь с грозой; 26 – Снегопад; 94 - Замораживание тумана."
   ]
  },
  {
   "cell_type": "code",
   "execution_count": 65,
   "metadata": {},
   "outputs": [
    {
     "name": "stdout",
     "output_type": "stream",
     "text": [
      "[1162.0889430894308, 1496.1774913237482, 1195.124471979724, 635.2308743169399, 712.9663708547408, 583.4285714285714, 250.85]\n"
     ]
    }
   ],
   "source": [
    "avg_cnt_for_weather = []\n",
    "codes = [1,2,3,4,7,10,26,94]\n",
    "for code in codes:\n",
    "    avg_cnt_for_weather.append(data[data['weather_code'] == code]['cnt'].mean())\n",
    "    \n",
    "avg_cnt_for_weather.remove(np.NaN)\n",
    "print(avg_cnt_for_weather)"
   ]
  },
  {
   "cell_type": "code",
   "execution_count": 71,
   "metadata": {},
   "outputs": [
    {
     "data": {
      "image/png": "[encoded data removed]",
      "text/plain": [
       "<Figure size 432x288 with 1 Axes>"
      ]
     },
     "metadata": {
      "needs_background": "light"
     },
     "output_type": "display_data"
    }
   ],
   "source": [
    "plt.stem(avg_cnt_for_weather, use_line_collection=True);\n",
    "# Где\n",
    "# 0 - Ясно\n",
    "# 1 - Кучевые облака\n",
    "# 2 - Перистые облака\n",
    "# 3 - Облачно\n",
    "# 4 - Дождь\n",
    "# 5 - Дождь с грозой\n",
    "# 6 - Снегопад"
   ]
  },
  {
   "cell_type": "markdown",
   "metadata": {},
   "source": [
    "Большое количество людей предпочитают брать велосипеды во время небольших облаков (1 Кучевые облака), а не когда их совсем нет (0 Ясно). Возможно это связано с тем, что во время солнечных дней кататься не очень комфортно.\n",
    "\n",
    "\n",
    "При облачной погоде (3 Облачно) количество людей, которые арендуют велосипед резко уменьшается. Дождь (4) и дождь с грозой (5) равносильны облачной погоде (примерно в 2 раза меньше чем при ясной или слабо облачной погоде)"
   ]
  },
  {
   "cell_type": "code",
   "execution_count": null,
   "metadata": {},
   "outputs": [],
   "source": []
  }
 ],
 "metadata": {
  "kernelspec": {
   "display_name": "Python 3",
   "language": "python",
   "name": "python3"
  },
  "language_info": {
   "codemirror_mode": {
    "name": "ipython",
    "version": 3
   },
   "file_extension": ".py",
   "mimetype": "text/x-python",
   "name": "python",
   "nbconvert_exporter": "python",
   "pygments_lexer": "ipython3",
   "version": "3.7.5"
  }
 },
 "nbformat": 4,
 "nbformat_minor": 5
}
